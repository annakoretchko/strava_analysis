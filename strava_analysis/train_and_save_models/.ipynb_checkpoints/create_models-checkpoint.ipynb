{
 "cells": [
  {
   "cell_type": "markdown",
   "metadata": {},
   "source": [
    "# Model Training and Saving\n",
    "This notebook trains the various models that I implement for my project. Some of teh data from the models is then converted to a Plotly figure and saved as a JSON string to be rendered for the front end of my website (found here: https://anna-koretchko.ue.r.appspot.com/strava) Training locally and saving the model is much cheaper than doing it all on the flask/GCP front end. \n",
    "\n",
    "**Enjoy the analysis and check out the site for the full walkthrough!**"
   ]
  },
  {
   "cell_type": "code",
   "execution_count": 5,
   "metadata": {},
   "outputs": [],
   "source": [
    "import os\n",
    "import secrets\n",
    "import json\n",
    "import pandas as pd\n",
    "import numpy as np\n",
    "import seaborn as sns\n",
    "import matplotlib.pyplot as plt\n",
    "from datetime import datetime as date\n",
    "import plotly\n",
    "import plotly.express as px\n",
    "import plotly.graph_objects as go\n",
    "from plotly.tools import FigureFactory as FF\n",
    "from sklearn.linear_model import LinearRegression\n",
    "import dash\n",
    "import dash_core_components as dcc\n",
    "import dash_html_components as html\n",
    "from dash.dependencies import Input, Output\n",
    "import numpy as np\n",
    "import plotly.graph_objects as go\n",
    "import plotly.express as px\n",
    "from sklearn.model_selection import train_test_split\n",
    "from sklearn import linear_model, tree, neighbors\n",
    "from sklearn.svm import SVR\n"
   ]
  },
  {
   "cell_type": "code",
   "execution_count": 6,
   "metadata": {},
   "outputs": [],
   "source": [
    "# Reads in the data from the API and historic data into panda dfs\n",
    "\n",
    "df_strava_combined = pd.read_csv(r'/Users/anna/Google Drive/Projects/strava_analysis/strava_analysis/data/combined_activities.csv')\n",
    "df_strava_historic = pd.read_csv(r'/Users/anna/Google Drive/Projects/strava_analysis/strava_analysis/data/historic_activities_clean.csv')\n",
    "df_api = pd.read_csv(r'/Users/anna/Google Drive/Projects/strava_analysis/strava_analysis/data/new_activities_clean.csv')\n"
   ]
  },
  {
   "cell_type": "code",
   "execution_count": null,
   "metadata": {},
   "outputs": [],
   "source": [
    "def compare_time_frames(df):\n",
    "    \n",
    "    \"\"\"[Takes two sets of times periods and compares results of the two time frames]\n",
    "\n",
    "    Args:\n",
    "        file_path ([str]): [path to csv]\n",
    "        start_1 ([type]): [beginning of time_frame_1]\n",
    "        end_1 ([type]): [end of time_frame_1]\n",
    "        start_2 ([type]): [beginning of time_frame_2]\n",
    "        end_2 ([type]): [end of time_frame_2]\n",
    "    \"\"\"\n",
    "    \n",
    "    \n",
    "    # Run faster in NC (t1) or SoFlo (t2)?\n",
    "    start_1 = '2019-07-01'\n",
    "    end_1 = '2020-04-01'\n",
    "    start_2 = '2020-10-03'\n",
    "    end_2 = '2021-04-26'\n",
    "\n",
    "\n",
    "\n",
    "    #Create new dataframe with only columns I care about\n",
    "    cols = ['name', 'upload_id', 'type', 'distance', 'moving_time',   \n",
    "            'average_speed', 'max_speed','total_elevation_gain',\n",
    "            'activity_date'\n",
    "        ]\n",
    "    df = df[cols]\n",
    "\n",
    "\n",
    "    \n",
    "    # get only running activities\n",
    "    run = df.loc[df['type'] == 'Run'] \n",
    " \n",
    "    # convert time strings\n",
    "    start_1 = date.strptime(start_1, '%Y-%m-%d').date()\n",
    "    end_1 = date.strptime(end_1, '%Y-%m-%d').date()\n",
    "    start_2 = date.strptime(start_2, '%Y-%m-%d').date()\n",
    "    end_2 = date.strptime(end_2, '%Y-%m-%d').date()\n",
    "\n",
    "    run['activity_date'] = pd.to_datetime(run['activity_date']).dt.date\n",
    "\n",
    "    # chunk time frames\n",
    "\n",
    "    # create column that is T if in t1 and F all else\n",
    "    run['time_frame_1'] = np.where( (run['activity_date'] > start_1) & (run['activity_date'] < end_1), 'T', 'F')\n",
    "    # get rows that fall in t1 column \n",
    "    time_frame_1 = run.loc[run['time_frame_1'] == 'T']\n",
    "\n",
    "\n",
    "    \n",
    "    # create column that is F if in t2 and F all else\n",
    "    run['time_frame_2'] = np.where( (run['activity_date'] > start_2) & (run['activity_date'] < end_2), 'T', 'F')\n",
    "    # get rows that fall in t2 column\n",
    "    time_frame_2 = run.loc[run['time_frame_2'] == 'T']\n",
    "\n",
    "    # get speed for each time period and also converts (time is in seconds, distance is in meters.\n",
    "    #  m/s to mph 1 m/s to 2.237 mph)\n",
    "    t1_speed = round(time_frame_1['average_speed'].mean() * 2.237, 2)\n",
    "    t2_speed = round(time_frame_2['average_speed'].mean() * 2.237, 2)\n",
    "    t1_max_speed = round(time_frame_1['max_speed'].mean()* 2.237, 2)\n",
    "    t2_max_speed = round(time_frame_2['max_speed'].mean()* 2.237, 2)\n",
    "\n",
    "    print(\"Average T1 Speed: \" + str(t1_speed) + \" | Average T1 Max Speed: \" + str(t1_max_speed) + '\\n'\n",
    "        + \"Average T2 Speed: \" + str(t2_speed) + \" | Average T2 Max Speed: \" + str(t2_max_speed))\n",
    "\n",
    "    percent_increase_average = round((t2_speed - t1_speed) * 100 / t1_speed,2)\n",
    "    print(\"Percent increase average speed:\",percent_increase_average)\n",
    "\n",
    "    percent_increase_average_max = round((t2_max_speed - t1_max_speed) * 100 / t1_max_speed,2)\n",
    "    print(\"Percent increase max speed:\",percent_increase_average_max)\n",
    "\n",
    "    # creates static graph\n",
    "    sns.scatterplot(x='total_elevation_gain', y = 'average_speed', data = run).set_title(\"Speed vs Elevation Gain\")\n",
    "    sns.regplot(x='total_elevation_gain', y = 'average_speed', data = run).set_title(\"Speed vs Elevation Gain\")\n",
    "    # saves image\n",
    "    plt.show()\n",
    "    \n",
    "    # next portion is to create the first dynamic graph in plotly for the website front end\n",
    "    y1 = [t1_speed, t1_max_speed]\n",
    "    y2 = [t2_speed,t2_max_speed]\n",
    "  \n",
    "\n",
    "    x_title=['Average Speed', 'Max Speed']\n",
    "\n",
    "    fig = go.Figure(data=[\n",
    "        go.Bar(name='Mountainous North Carolina', x=x_title, y=y1),\n",
    "        go.Bar(name='Hot & Humid Florida', x=x_title, y=y2)\n",
    "    ])\n",
    "    \n",
    "    # Change the bar mode\n",
    "    fig.update_layout(barmode='group')\n",
    "    fig.show()\n",
    "    \n",
    "    # save the fig to JSON string for front end display and interaction\n",
    "    plot_json = json.dumps(fig, cls = plotly.utils.PlotlyJSONEncoder)\n",
    "    myText = open(r'graph_1_strava.txt','w')\n",
    "    myString = plot_json\n",
    "    myText.write(myString)\n",
    "    myText.close()\n",
    "\n",
    "\n",
    "    select_time = pd.concat([time_frame_2,time_frame_1])\n",
    "   \n",
    "    # plotly graph 2\n",
    "    run = select_time[['total_elevation_gain','average_speed']]\n",
    "   \n",
    "    X = run.total_elevation_gain.values.reshape(-1, 1)\n",
    "\n",
    "    model = LinearRegression()\n",
    "    model.fit(X, run.average_speed)\n",
    "\n",
    "    x_range = np.linspace(X.min(), X.max(), 100)\n",
    "    y_range = model.predict(x_range.reshape(-1, 1))\n",
    "\n",
    "    fig2 = px.scatter(run, x='total_elevation_gain', y='average_speed', opacity=0.65)\n",
    "    fig2.add_traces(go.Scatter(x=x_range, y=y_range, name='Regression Fit'))\n",
    "    fig2.show()\n",
    "    \n",
    "    # save the fig to JSON string for front end display and interaction\n",
    "    plot_json2 = json.dumps(fig2, cls = plotly.utils.PlotlyJSONEncoder)\n",
    "    # save to txt file for web-app\n",
    "    myText = open(r'graph_2_strava.txt','w')\n",
    "    myString = plot_json2\n",
    "    myText.write(myString)\n",
    "    myText.close()\n",
    "\n",
    "\n",
    "\n",
    "    return plot_json , plot_json2,run"
   ]
  },
  {
   "cell_type": "code",
   "execution_count": 11,
   "metadata": {},
   "outputs": [
    {
     "name": "stdout",
     "output_type": "stream",
     "text": [
      "Average T1 Speed: 7.46 | Average T1 Max Speed: 11.09\n",
      "Average T2 Speed: 7.5 | Average T2 Max Speed: 10.58\n",
      "Percent increase average speed: 0.54\n",
      "Percent increase max speed: -4.6\n"
     ]
    },
    {
     "name": "stderr",
     "output_type": "stream",
     "text": [
      "<ipython-input-9-7d9e07d7638e>:40: SettingWithCopyWarning:\n",
      "\n",
      "\n",
      "A value is trying to be set on a copy of a slice from a DataFrame.\n",
      "Try using .loc[row_indexer,col_indexer] = value instead\n",
      "\n",
      "See the caveats in the documentation: https://pandas.pydata.org/pandas-docs/stable/user_guide/indexing.html#returning-a-view-versus-a-copy\n",
      "\n",
      "<ipython-input-9-7d9e07d7638e>:45: SettingWithCopyWarning:\n",
      "\n",
      "\n",
      "A value is trying to be set on a copy of a slice from a DataFrame.\n",
      "Try using .loc[row_indexer,col_indexer] = value instead\n",
      "\n",
      "See the caveats in the documentation: https://pandas.pydata.org/pandas-docs/stable/user_guide/indexing.html#returning-a-view-versus-a-copy\n",
      "\n",
      "<ipython-input-9-7d9e07d7638e>:52: SettingWithCopyWarning:\n",
      "\n",
      "\n",
      "A value is trying to be set on a copy of a slice from a DataFrame.\n",
      "Try using .loc[row_indexer,col_indexer] = value instead\n",
      "\n",
      "See the caveats in the documentation: https://pandas.pydata.org/pandas-docs/stable/user_guide/indexing.html#returning-a-view-versus-a-copy\n",
      "\n"
     ]
    },
    {
     "data": {
      "image/png": "[encoded data removed]",
      "text/plain": [
       "<Figure size 432x288 with 1 Axes>"
      ]
     },
     "metadata": {
      "needs_background": "light"
     },
     "output_type": "display_data"
    },
    {
     "data": {
      "application/vnd.plotly.v1+json": {
       "config": {
        "plotlyServerURL": "https://plot.ly"
       },
       "data": [
        {
         "name": "Mountainous North Carolina",
         "type": "bar",
         "x": [
          "Average Speed",
          "Max Speed"
         ],
         "y": [
          7.46,
          11.09
         ]
        },
        {
         "name": "Hot & Humid Florida",
         "type": "bar",
         "x": [
          "Average Speed",
          "Max Speed"
         ],
         "y": [
          7.5,
          10.58
         ]
        }
       ],
       "layout": {
        "barmode": "group",
        "template": {
         "data": {
          "bar": [
           {
            "error_x": {
             "color": "#2a3f5f"
            },
            "error_y": {
             "color": "#2a3f5f"
            },
            "marker": {
             "line": {
              "color": "#E5ECF6",
              "width": 0.5
             }
            },
            "type": "bar"
           }
          ],
          "barpolar": [
           {
            "marker": {
             "line": {
              "color": "#E5ECF6",
              "width": 0.5
             }
            },
            "type": "barpolar"
           }
          ],
          "carpet": [
           {
            "aaxis": {
             "endlinecolor": "#2a3f5f",
             "gridcolor": "white",
             "linecolor": "white",
             "minorgridcolor": "white",
             "startlinecolor": "#2a3f5f"
            },
            "baxis": {
             "endlinecolor": "#2a3f5f",
             "gridcolor": "white",
             "linecolor": "white",
             "minorgridcolor": "white",
             "startlinecolor": "#2a3f5f"
            },
            "type": "carpet"
           }
          ],
          "choropleth": [
           {
            "colorbar": {
             "outlinewidth": 0,
             "ticks": ""
            },
            "type": "choropleth"
           }
          ],
          "contour": [
           {
            "colorbar": {
             "outlinewidth": 0,
             "ticks": ""
            },
            "colorscale": [
             [
              0,
              "#0d0887"
             ],
             [
              0.1111111111111111,
              "#46039f"
             ],
             [
              0.2222222222222222,
              "#7201a8"
             ],
             [
              0.3333333333333333,
              "#9c179e"
             ],
             [
              0.4444444444444444,
              "#bd3786"
             ],
             [
              0.5555555555555556,
              "#d8576b"
             ],
             [
              0.6666666666666666,
              "#ed7953"
             ],
             [
              0.7777777777777778,
              "#fb9f3a"
             ],
             [
              0.8888888888888888,
              "#fdca26"
             ],
             [
              1,
              "#f0f921"
             ]
            ],
            "type": "contour"
           }
          ],
          "contourcarpet": [
           {
            "colorbar": {
             "outlinewidth": 0,
             "ticks": ""
            },
            "type": "contourcarpet"
           }
          ],
          "heatmap": [
           {
            "colorbar": {
             "outlinewidth": 0,
             "ticks": ""
            },
            "colorscale": [
             [
              0,
              "#0d0887"
             ],
             [
              0.1111111111111111,
              "#46039f"
             ],
             [
              0.2222222222222222,
              "#7201a8"
             ],
             [
              0.3333333333333333,
              "#9c179e"
             ],
             [
              0.4444444444444444,
              "#bd3786"
             ],
             [
              0.5555555555555556,
              "#d8576b"
             ],
             [
              0.6666666666666666,
              "#ed7953"
             ],
             [
              0.7777777777777778,
              "#fb9f3a"
             ],
             [
              0.8888888888888888,
              "#fdca26"
             ],
             [
              1,
              "#f0f921"
             ]
            ],
            "type": "heatmap"
           }
          ],
          "heatmapgl": [
           {
            "colorbar": {
             "outlinewidth": 0,
             "ticks": ""
            },
            "colorscale": [
             [
              0,
              "#0d0887"
             ],
             [
              0.1111111111111111,
              "#46039f"
             ],
             [
              0.2222222222222222,
              "#7201a8"
             ],
             [
              0.3333333333333333,
              "#9c179e"
             ],
             [
              0.4444444444444444,
              "#bd3786"
             ],
             [
              0.5555555555555556,
              "#d8576b"
             ],
             [
              0.6666666666666666,
              "#ed7953"
             ],
             [
              0.7777777777777778,
              "#fb9f3a"
             ],
             [
              0.8888888888888888,
              "#fdca26"
             ],
             [
              1,
              "#f0f921"
             ]
            ],
            "type": "heatmapgl"
           }
          ],
          "histogram": [
           {
            "marker": {
             "colorbar": {
              "outlinewidth": 0,
              "ticks": ""
             }
            },
            "type": "histogram"
           }
          ],
          "histogram2d": [
           {
            "colorbar": {
             "outlinewidth": 0,
             "ticks": ""
            },
            "colorscale": [
             [
              0,
              "#0d0887"
             ],
             [
              0.1111111111111111,
              "#46039f"
             ],
             [
              0.2222222222222222,
              "#7201a8"
             ],
             [
              0.3333333333333333,
              "#9c179e"
             ],
             [
              0.4444444444444444,
              "#bd3786"
             ],
             [
              0.5555555555555556,
              "#d8576b"
             ],
             [
              0.6666666666666666,
              "#ed7953"
             ],
             [
              0.7777777777777778,
              "#fb9f3a"
             ],
             [
              0.8888888888888888,
              "#fdca26"
             ],
             [
              1,
              "#f0f921"
             ]
            ],
            "type": "histogram2d"
           }
          ],
          "histogram2dcontour": [
           {
            "colorbar": {
             "outlinewidth": 0,
             "ticks": ""
            },
            "colorscale": [
             [
              0,
              "#0d0887"
             ],
             [
              0.1111111111111111,
              "#46039f"
             ],
             [
              0.2222222222222222,
              "#7201a8"
             ],
             [
              0.3333333333333333,
              "#9c179e"
             ],
             [
              0.4444444444444444,
              "#bd3786"
             ],
             [
              0.5555555555555556,
              "#d8576b"
             ],
             [
              0.6666666666666666,
              "#ed7953"
             ],
             [
              0.7777777777777778,
              "#fb9f3a"
             ],
             [
              0.8888888888888888,
              "#fdca26"
             ],
             [
              1,
              "#f0f921"
             ]
            ],
            "type": "histogram2dcontour"
           }
          ],
          "mesh3d": [
           {
            "colorbar": {
             "outlinewidth": 0,
             "ticks": ""
            },
            "type": "mesh3d"
           }
          ],
          "parcoords": [
           {
            "line": {
             "colorbar": {
              "outlinewidth": 0,
              "ticks": ""
             }
            },
            "type": "parcoords"
           }
          ],
          "pie": [
           {
            "automargin": true,
            "type": "pie"
           }
          ],
          "scatter": [
           {
            "marker": {
             "colorbar": {
              "outlinewidth": 0,
              "ticks": ""
             }
            },
            "type": "scatter"
           }
          ],
          "scatter3d": [
           {
            "line": {
             "colorbar": {
              "outlinewidth": 0,
              "ticks": ""
             }
            },
            "marker": {
             "colorbar": {
              "outlinewidth": 0,
              "ticks": ""
             }
            },
            "type": "scatter3d"
           }
          ],
          "scattercarpet": [
           {
            "marker": {
             "colorbar": {
              "outlinewidth": 0,
              "ticks": ""
             }
            },
            "type": "scattercarpet"
           }
          ],
          "scattergeo": [
           {
            "marker": {
             "colorbar": {
              "outlinewidth": 0,
              "ticks": ""
             }
            },
            "type": "scattergeo"
           }
          ],
          "scattergl": [
           {
            "marker": {
             "colorbar": {
              "outlinewidth": 0,
              "ticks": ""
             }
            },
            "type": "scattergl"
           }
          ],
          "scattermapbox": [
           {
            "marker": {
             "colorbar": {
              "outlinewidth": 0,
              "ticks": ""
             }
            },
            "type": "scattermapbox"
           }
          ],
          "scatterpolar": [
           {
            "marker": {
             "colorbar": {
              "outlinewidth": 0,
              "ticks": ""
             }
            },
            "type": "scatterpolar"
           }
          ],
          "scatterpolargl": [
           {
            "marker": {
             "colorbar": {
              "outlinewidth": 0,
              "ticks": ""
             }
            },
            "type": "scatterpolargl"
           }
          ],
          "scatterternary": [
           {
            "marker": {
             "colorbar": {
              "outlinewidth": 0,
              "ticks": ""
             }
            },
            "type": "scatterternary"
           }
          ],
          "surface": [
           {
            "colorbar": {
             "outlinewidth": 0,
             "ticks": ""
            },
            "colorscale": [
             [
              0,
              "#0d0887"
             ],
             [
              0.1111111111111111,
              "#46039f"
             ],
             [
              0.2222222222222222,
              "#7201a8"
             ],
             [
              0.3333333333333333,
              "#9c179e"
             ],
             [
              0.4444444444444444,
              "#bd3786"
             ],
             [
              0.5555555555555556,
              "#d8576b"
             ],
             [
              0.6666666666666666,
              "#ed7953"
             ],
             [
              0.7777777777777778,
              "#fb9f3a"
             ],
             [
              0.8888888888888888,
              "#fdca26"
             ],
             [
              1,
              "#f0f921"
             ]
            ],
            "type": "surface"
           }
          ],
          "table": [
           {
            "cells": {
             "fill": {
              "color": "#EBF0F8"
             },
             "line": {
              "color": "white"
             }
            },
            "header": {
             "fill": {
              "color": "#C8D4E3"
             },
             "line": {
              "color": "white"
             }
            },
            "type": "table"
           }
          ]
         },
         "layout": {
          "annotationdefaults": {
           "arrowcolor": "#2a3f5f",
           "arrowhead": 0,
           "arrowwidth": 1
          },
          "autotypenumbers": "strict",
          "coloraxis": {
           "colorbar": {
            "outlinewidth": 0,
            "ticks": ""
           }
          },
          "colorscale": {
           "diverging": [
            [
             0,
             "#8e0152"
            ],
            [
             0.1,
             "#c51b7d"
            ],
            [
             0.2,
             "#de77ae"
            ],
            [
             0.3,
             "#f1b6da"
            ],
            [
             0.4,
             "#fde0ef"
            ],
            [
             0.5,
             "#f7f7f7"
            ],
            [
             0.6,
             "#e6f5d0"
            ],
            [
             0.7,
             "#b8e186"
            ],
            [
             0.8,
             "#7fbc41"
            ],
            [
             0.9,
             "#4d9221"
            ],
            [
             1,
             "#276419"
            ]
           ],
           "sequential": [
            [
             0,
             "#0d0887"
            ],
            [
             0.1111111111111111,
             "#46039f"
            ],
            [
             0.2222222222222222,
             "#7201a8"
            ],
            [
             0.3333333333333333,
             "#9c179e"
            ],
            [
             0.4444444444444444,
             "#bd3786"
            ],
            [
             0.5555555555555556,
             "#d8576b"
            ],
            [
             0.6666666666666666,
             "#ed7953"
            ],
            [
             0.7777777777777778,
             "#fb9f3a"
            ],
            [
             0.8888888888888888,
             "#fdca26"
            ],
            [
             1,
             "#f0f921"
            ]
           ],
           "sequentialminus": [
            [
             0,
             "#0d0887"
            ],
            [
             0.1111111111111111,
             "#46039f"
            ],
            [
             0.2222222222222222,
             "#7201a8"
            ],
            [
             0.3333333333333333,
             "#9c179e"
            ],
            [
             0.4444444444444444,
             "#bd3786"
            ],
            [
             0.5555555555555556,
             "#d8576b"
            ],
            [
             0.6666666666666666,
             "#ed7953"
            ],
            [
             0.7777777777777778,
             "#fb9f3a"
            ],
            [
             0.8888888888888888,
             "#fdca26"
            ],
            [
             1,
             "#f0f921"
            ]
           ]
          },
          "colorway": [
           "#636efa",
           "#EF553B",
           "#00cc96",
           "#ab63fa",
           "#FFA15A",
           "#19d3f3",
           "#FF6692",
           "#B6E880",
           "#FF97FF",
           "#FECB52"
          ],
          "font": {
           "color": "#2a3f5f"
          },
          "geo": {
           "bgcolor": "white",
           "lakecolor": "white",
           "landcolor": "#E5ECF6",
           "showlakes": true,
           "showland": true,
           "subunitcolor": "white"
          },
          "hoverlabel": {
           "align": "left"
          },
          "hovermode": "closest",
          "mapbox": {
           "style": "light"
          },
          "paper_bgcolor": "white",
          "plot_bgcolor": "#E5ECF6",
          "polar": {
           "angularaxis": {
            "gridcolor": "white",
            "linecolor": "white",
            "ticks": ""
           },
           "bgcolor": "#E5ECF6",
           "radialaxis": {
            "gridcolor": "white",
            "linecolor": "white",
            "ticks": ""
           }
          },
          "scene": {
           "xaxis": {
            "backgroundcolor": "#E5ECF6",
            "gridcolor": "white",
            "gridwidth": 2,
            "linecolor": "white",
            "showbackground": true,
            "ticks": "",
            "zerolinecolor": "white"
           },
           "yaxis": {
            "backgroundcolor": "#E5ECF6",
            "gridcolor": "white",
            "gridwidth": 2,
            "linecolor": "white",
            "showbackground": true,
            "ticks": "",
            "zerolinecolor": "white"
           },
           "zaxis": {
            "backgroundcolor": "#E5ECF6",
            "gridcolor": "white",
            "gridwidth": 2,
            "linecolor": "white",
            "showbackground": true,
            "ticks": "",
            "zerolinecolor": "white"
           }
          },
          "shapedefaults": {
           "line": {
            "color": "#2a3f5f"
           }
          },
          "ternary": {
           "aaxis": {
            "gridcolor": "white",
            "linecolor": "white",
            "ticks": ""
           },
           "baxis": {
            "gridcolor": "white",
            "linecolor": "white",
            "ticks": ""
           },
           "bgcolor": "#E5ECF6",
           "caxis": {
            "gridcolor": "white",
            "linecolor": "white",
            "ticks": ""
           }
          },
          "title": {
           "x": 0.05
          },
          "xaxis": {
           "automargin": true,
           "gridcolor": "white",
           "linecolor": "white",
           "ticks": "",
           "title": {
            "standoff": 15
           },
           "zerolinecolor": "white",
           "zerolinewidth": 2
          },
          "yaxis": {
           "automargin": true,
           "gridcolor": "white",
           "linecolor": "white",
           "ticks": "",
           "title": {
            "standoff": 15
           },
           "zerolinecolor": "white",
           "zerolinewidth": 2
          }
         }
        }
       }
      },
      "text/html": [
       "<div>                            <div id=\"d392c356-5d0b-4487-b4b8-c51c1f57e386\" class=\"plotly-graph-div\" style=\"height:525px; width:100%;\"></div>            <script type=\"text/javascript\">                require([\"plotly\"], function(Plotly) {                    window.PLOTLYENV=window.PLOTLYENV || {};                                    if (document.getElementById(\"d392c356-5d0b-4487-b4b8-c51c1f57e386\")) {                    Plotly.newPlot(                        \"d392c356-5d0b-4487-b4b8-c51c1f57e386\",                        [{\"name\": \"Mountainous North Carolina\", \"type\": \"bar\", \"x\": [\"Average Speed\", \"Max Speed\"], \"y\": [7.46, 11.09]}, {\"name\": \"Hot & Humid Florida\", \"type\": \"bar\", \"x\": [\"Average Speed\", \"Max Speed\"], \"y\": [7.5, 10.58]}],                        {\"barmode\": \"group\", \"template\": {\"data\": {\"bar\": [{\"error_x\": {\"color\": \"#2a3f5f\"}, \"error_y\": {\"color\": \"#2a3f5f\"}, \"marker\": {\"line\": {\"color\": \"#E5ECF6\", \"width\": 0.5}}, \"type\": \"bar\"}], \"barpolar\": [{\"marker\": {\"line\": {\"color\": \"#E5ECF6\", \"width\": 0.5}}, \"type\": \"barpolar\"}], \"carpet\": [{\"aaxis\": {\"endlinecolor\": \"#2a3f5f\", \"gridcolor\": \"white\", \"linecolor\": \"white\", \"minorgridcolor\": \"white\", \"startlinecolor\": \"#2a3f5f\"}, \"baxis\": {\"endlinecolor\": \"#2a3f5f\", \"gridcolor\": \"white\", \"linecolor\": \"white\", \"minorgridcolor\": \"white\", \"startlinecolor\": \"#2a3f5f\"}, \"type\": \"carpet\"}], \"choropleth\": [{\"colorbar\": {\"outlinewidth\": 0, \"ticks\": \"\"}, \"type\": \"choropleth\"}], \"contour\": [{\"colorbar\": {\"outlinewidth\": 0, \"ticks\": \"\"}, \"colorscale\": [[0.0, \"#0d0887\"], [0.1111111111111111, \"#46039f\"], [0.2222222222222222, \"#7201a8\"], [0.3333333333333333, \"#9c179e\"], [0.4444444444444444, \"#bd3786\"], [0.5555555555555556, \"#d8576b\"], [0.6666666666666666, \"#ed7953\"], [0.7777777777777778, \"#fb9f3a\"], [0.8888888888888888, \"#fdca26\"], [1.0, \"#f0f921\"]], \"type\": \"contour\"}], \"contourcarpet\": [{\"colorbar\": {\"outlinewidth\": 0, \"ticks\": \"\"}, \"type\": \"contourcarpet\"}], \"heatmap\": [{\"colorbar\": {\"outlinewidth\": 0, \"ticks\": \"\"}, \"colorscale\": [[0.0, \"#0d0887\"], [0.1111111111111111, \"#46039f\"], [0.2222222222222222, \"#7201a8\"], [0.3333333333333333, \"#9c179e\"], [0.4444444444444444, \"#bd3786\"], [0.5555555555555556, \"#d8576b\"], [0.6666666666666666, \"#ed7953\"], [0.7777777777777778, \"#fb9f3a\"], [0.8888888888888888, \"#fdca26\"], [1.0, \"#f0f921\"]], \"type\": \"heatmap\"}], \"heatmapgl\": [{\"colorbar\": {\"outlinewidth\": 0, \"ticks\": \"\"}, \"colorscale\": [[0.0, \"#0d0887\"], [0.1111111111111111, \"#46039f\"], [0.2222222222222222, \"#7201a8\"], [0.3333333333333333, \"#9c179e\"], [0.4444444444444444, \"#bd3786\"], [0.5555555555555556, \"#d8576b\"], [0.6666666666666666, \"#ed7953\"], [0.7777777777777778, \"#fb9f3a\"], [0.8888888888888888, \"#fdca26\"], [1.0, \"#f0f921\"]], \"type\": \"heatmapgl\"}], \"histogram\": [{\"marker\": {\"colorbar\": {\"outlinewidth\": 0, \"ticks\": \"\"}}, \"type\": \"histogram\"}], \"histogram2d\": [{\"colorbar\": {\"outlinewidth\": 0, \"ticks\": \"\"}, \"colorscale\": [[0.0, \"#0d0887\"], [0.1111111111111111, \"#46039f\"], [0.2222222222222222, \"#7201a8\"], [0.3333333333333333, \"#9c179e\"], [0.4444444444444444, \"#bd3786\"], [0.5555555555555556, \"#d8576b\"], [0.6666666666666666, \"#ed7953\"], [0.7777777777777778, \"#fb9f3a\"], [0.8888888888888888, \"#fdca26\"], [1.0, \"#f0f921\"]], \"type\": \"histogram2d\"}], \"histogram2dcontour\": [{\"colorbar\": {\"outlinewidth\": 0, \"ticks\": \"\"}, \"colorscale\": [[0.0, \"#0d0887\"], [0.1111111111111111, \"#46039f\"], [0.2222222222222222, \"#7201a8\"], [0.3333333333333333, \"#9c179e\"], [0.4444444444444444, \"#bd3786\"], [0.5555555555555556, \"#d8576b\"], [0.6666666666666666, \"#ed7953\"], [0.7777777777777778, \"#fb9f3a\"], [0.8888888888888888, \"#fdca26\"], [1.0, \"#f0f921\"]], \"type\": \"histogram2dcontour\"}], \"mesh3d\": [{\"colorbar\": {\"outlinewidth\": 0, \"ticks\": \"\"}, \"type\": \"mesh3d\"}], \"parcoords\": [{\"line\": {\"colorbar\": {\"outlinewidth\": 0, \"ticks\": \"\"}}, \"type\": \"parcoords\"}], \"pie\": [{\"automargin\": true, \"type\": \"pie\"}], \"scatter\": [{\"marker\": {\"colorbar\": {\"outlinewidth\": 0, \"ticks\": \"\"}}, \"type\": \"scatter\"}], \"scatter3d\": [{\"line\": {\"colorbar\": {\"outlinewidth\": 0, \"ticks\": \"\"}}, \"marker\": {\"colorbar\": {\"outlinewidth\": 0, \"ticks\": \"\"}}, \"type\": \"scatter3d\"}], \"scattercarpet\": [{\"marker\": {\"colorbar\": {\"outlinewidth\": 0, \"ticks\": \"\"}}, \"type\": \"scattercarpet\"}], \"scattergeo\": [{\"marker\": {\"colorbar\": {\"outlinewidth\": 0, \"ticks\": \"\"}}, \"type\": \"scattergeo\"}], \"scattergl\": [{\"marker\": {\"colorbar\": {\"outlinewidth\": 0, \"ticks\": \"\"}}, \"type\": \"scattergl\"}], \"scattermapbox\": [{\"marker\": {\"colorbar\": {\"outlinewidth\": 0, \"ticks\": \"\"}}, \"type\": \"scattermapbox\"}], \"scatterpolar\": [{\"marker\": {\"colorbar\": {\"outlinewidth\": 0, \"ticks\": \"\"}}, \"type\": \"scatterpolar\"}], \"scatterpolargl\": [{\"marker\": {\"colorbar\": {\"outlinewidth\": 0, \"ticks\": \"\"}}, \"type\": \"scatterpolargl\"}], \"scatterternary\": [{\"marker\": {\"colorbar\": {\"outlinewidth\": 0, \"ticks\": \"\"}}, \"type\": \"scatterternary\"}], \"surface\": [{\"colorbar\": {\"outlinewidth\": 0, \"ticks\": \"\"}, \"colorscale\": [[0.0, \"#0d0887\"], [0.1111111111111111, \"#46039f\"], [0.2222222222222222, \"#7201a8\"], [0.3333333333333333, \"#9c179e\"], [0.4444444444444444, \"#bd3786\"], [0.5555555555555556, \"#d8576b\"], [0.6666666666666666, \"#ed7953\"], [0.7777777777777778, \"#fb9f3a\"], [0.8888888888888888, \"#fdca26\"], [1.0, \"#f0f921\"]], \"type\": \"surface\"}], \"table\": [{\"cells\": {\"fill\": {\"color\": \"#EBF0F8\"}, \"line\": {\"color\": \"white\"}}, \"header\": {\"fill\": {\"color\": \"#C8D4E3\"}, \"line\": {\"color\": \"white\"}}, \"type\": \"table\"}]}, \"layout\": {\"annotationdefaults\": {\"arrowcolor\": \"#2a3f5f\", \"arrowhead\": 0, \"arrowwidth\": 1}, \"autotypenumbers\": \"strict\", \"coloraxis\": {\"colorbar\": {\"outlinewidth\": 0, \"ticks\": \"\"}}, \"colorscale\": {\"diverging\": [[0, \"#8e0152\"], [0.1, \"#c51b7d\"], [0.2, \"#de77ae\"], [0.3, \"#f1b6da\"], [0.4, \"#fde0ef\"], [0.5, \"#f7f7f7\"], [0.6, \"#e6f5d0\"], [0.7, \"#b8e186\"], [0.8, \"#7fbc41\"], [0.9, \"#4d9221\"], [1, \"#276419\"]], \"sequential\": [[0.0, \"#0d0887\"], [0.1111111111111111, \"#46039f\"], [0.2222222222222222, \"#7201a8\"], [0.3333333333333333, \"#9c179e\"], [0.4444444444444444, \"#bd3786\"], [0.5555555555555556, \"#d8576b\"], [0.6666666666666666, \"#ed7953\"], [0.7777777777777778, \"#fb9f3a\"], [0.8888888888888888, \"#fdca26\"], [1.0, \"#f0f921\"]], \"sequentialminus\": [[0.0, \"#0d0887\"], [0.1111111111111111, \"#46039f\"], [0.2222222222222222, \"#7201a8\"], [0.3333333333333333, \"#9c179e\"], [0.4444444444444444, \"#bd3786\"], [0.5555555555555556, \"#d8576b\"], [0.6666666666666666, \"#ed7953\"], [0.7777777777777778, \"#fb9f3a\"], [0.8888888888888888, \"#fdca26\"], [1.0, \"#f0f921\"]]}, \"colorway\": [\"#636efa\", \"#EF553B\", \"#00cc96\", \"#ab63fa\", \"#FFA15A\", \"#19d3f3\", \"#FF6692\", \"#B6E880\", \"#FF97FF\", \"#FECB52\"], \"font\": {\"color\": \"#2a3f5f\"}, \"geo\": {\"bgcolor\": \"white\", \"lakecolor\": \"white\", \"landcolor\": \"#E5ECF6\", \"showlakes\": true, \"showland\": true, \"subunitcolor\": \"white\"}, \"hoverlabel\": {\"align\": \"left\"}, \"hovermode\": \"closest\", \"mapbox\": {\"style\": \"light\"}, \"paper_bgcolor\": \"white\", \"plot_bgcolor\": \"#E5ECF6\", \"polar\": {\"angularaxis\": {\"gridcolor\": \"white\", \"linecolor\": \"white\", \"ticks\": \"\"}, \"bgcolor\": \"#E5ECF6\", \"radialaxis\": {\"gridcolor\": \"white\", \"linecolor\": \"white\", \"ticks\": \"\"}}, \"scene\": {\"xaxis\": {\"backgroundcolor\": \"#E5ECF6\", \"gridcolor\": \"white\", \"gridwidth\": 2, \"linecolor\": \"white\", \"showbackground\": true, \"ticks\": \"\", \"zerolinecolor\": \"white\"}, \"yaxis\": {\"backgroundcolor\": \"#E5ECF6\", \"gridcolor\": \"white\", \"gridwidth\": 2, \"linecolor\": \"white\", \"showbackground\": true, \"ticks\": \"\", \"zerolinecolor\": \"white\"}, \"zaxis\": {\"backgroundcolor\": \"#E5ECF6\", \"gridcolor\": \"white\", \"gridwidth\": 2, \"linecolor\": \"white\", \"showbackground\": true, \"ticks\": \"\", \"zerolinecolor\": \"white\"}}, \"shapedefaults\": {\"line\": {\"color\": \"#2a3f5f\"}}, \"ternary\": {\"aaxis\": {\"gridcolor\": \"white\", \"linecolor\": \"white\", \"ticks\": \"\"}, \"baxis\": {\"gridcolor\": \"white\", \"linecolor\": \"white\", \"ticks\": \"\"}, \"bgcolor\": \"#E5ECF6\", \"caxis\": {\"gridcolor\": \"white\", \"linecolor\": \"white\", \"ticks\": \"\"}}, \"title\": {\"x\": 0.05}, \"xaxis\": {\"automargin\": true, \"gridcolor\": \"white\", \"linecolor\": \"white\", \"ticks\": \"\", \"title\": {\"standoff\": 15}, \"zerolinecolor\": \"white\", \"zerolinewidth\": 2}, \"yaxis\": {\"automargin\": true, \"gridcolor\": \"white\", \"linecolor\": \"white\", \"ticks\": \"\", \"title\": {\"standoff\": 15}, \"zerolinecolor\": \"white\", \"zerolinewidth\": 2}}}},                        {\"responsive\": true}                    ).then(function(){\n",
       "                            \n",
       "var gd = document.getElementById('d392c356-5d0b-4487-b4b8-c51c1f57e386');\n",
       "var x = new MutationObserver(function (mutations, observer) {{\n",
       "        var display = window.getComputedStyle(gd).display;\n",
       "        if (!display || display === 'none') {{\n",
       "            console.log([gd, 'removed!']);\n",
       "            Plotly.purge(gd);\n",
       "            observer.disconnect();\n",
       "        }}\n",
       "}});\n",
       "\n",
       "// Listen for the removal of the full notebook cells\n",
       "var notebookContainer = gd.closest('#notebook-container');\n",
       "if (notebookContainer) {{\n",
       "    x.observe(notebookContainer, {childList: true});\n",
       "}}\n",
       "\n",
       "// Listen for the clearing of the current output cell\n",
       "var outputEl = gd.closest('.output');\n",
       "if (outputEl) {{\n",
       "    x.observe(outputEl, {childList: true});\n",
       "}}\n",
       "\n",
       "                        })                };                });            </script>        </div>"
      ]
     },
     "metadata": {},
     "output_type": "display_data"
    },
    {
     "data": {
      "application/vnd.plotly.v1+json": {
       "config": {
        "plotlyServerURL": "https://plot.ly"
       },
       "data": [
        {
         "hovertemplate": "total_elevation_gain=%{x}<br>average_speed=%{y}<extra></extra>",
         "legendgroup": "",
         "marker": {
          "color": "#636efa",
          "opacity": 0.65,
          "symbol": "circle"
         },
         "mode": "markers",
         "name": "",
         "orientation": "v",
         "showlegend": false,
         "type": "scatter",
         "x": [
          21,
          12,
          57,
          165,
          29,
          17,
          36,
          57,
          51,
          29,
          12,
          52,
          32,
          26,
          45,
          9,
          30,
          37,
          38,
          49,
          23,
          43,
          24,
          7,
          34,
          44,
          32,
          39,
          44,
          56,
          21,
          44,
          29,
          26,
          29,
          27,
          32,
          12,
          18,
          7,
          56,
          32,
          19,
          29,
          7,
          23,
          28,
          25,
          10,
          59,
          28,
          46,
          24,
          44,
          23,
          13,
          5,
          24,
          15,
          23,
          16,
          8,
          42,
          3,
          21,
          9,
          41,
          29,
          6,
          27,
          20,
          40,
          7,
          18,
          6,
          23,
          34,
          3,
          5,
          15,
          22,
          10,
          18,
          24,
          5,
          7,
          2,
          6,
          5,
          31,
          5,
          18,
          30,
          21,
          77,
          30,
          70,
          123,
          41,
          70,
          39,
          49,
          66,
          210,
          23,
          0,
          20,
          68,
          124,
          75,
          62,
          42,
          125,
          109,
          63,
          112,
          110,
          99,
          23,
          119,
          99,
          19,
          29,
          121,
          33,
          119,
          7,
          22,
          5,
          6,
          6,
          4,
          39,
          119,
          39,
          108,
          66,
          118,
          54,
          124,
          5,
          34,
          3,
          57,
          19,
          121,
          6,
          42,
          122,
          57,
          5,
          5,
          8,
          127,
          121,
          21,
          47,
          83,
          20,
          56,
          11,
          104,
          7,
          16,
          28,
          75,
          130,
          40,
          91,
          38,
          37,
          86,
          32,
          37,
          65,
          18,
          92,
          7
         ],
         "xaxis": "x",
         "y": [
          3.642,
          3.728,
          3.5589999999999997,
          2.6910000000000003,
          3.517,
          3.603,
          3.509,
          3.1239999999999997,
          3.6010000000000004,
          3.48,
          2.5869999999999997,
          2.773,
          2.396,
          3.4339999999999997,
          3.5860000000000003,
          3.673,
          3.555,
          3.6319999999999997,
          3.637,
          3.6310000000000002,
          3.466,
          3.6,
          3.366,
          3.3930000000000002,
          3.523,
          2.8930000000000002,
          3.5010000000000003,
          3.4939999999999998,
          3.557,
          3.5860000000000003,
          3.696,
          3.5589999999999997,
          2.431,
          2.6260000000000003,
          3.5189999999999997,
          2.398,
          3.498,
          3.156,
          3.65,
          3.6919999999999997,
          3.545,
          3.6689999999999996,
          2.705,
          3.2260000000000004,
          2.64,
          2.469,
          3.043,
          3.3280000000000003,
          3.597,
          3.335,
          3.545,
          3.458,
          3.617,
          2.821,
          3.685,
          2.6630000000000003,
          3.7510000000000003,
          3.464,
          3.767,
          3.0069999999999997,
          3.395,
          3.389,
          3.478,
          3.5589999999999997,
          3.437,
          3.6719999999999997,
          3.426,
          3.42,
          3.747,
          3.5660000000000003,
          3.383,
          3.446,
          2.611,
          3.423,
          3.792,
          3.502,
          3.52,
          3.615,
          2.521,
          3.3760000000000003,
          3.42,
          3.805,
          3.5610000000000004,
          3.2889999999999997,
          3.8480000000000003,
          3.4130000000000003,
          3.364,
          3.432,
          3.866,
          3.083,
          3.2960000000000003,
          3.074,
          3.299,
          3.375,
          3.306,
          3.4619999999999997,
          2.702,
          2.412,
          3.469,
          2.647,
          3.425,
          3.014,
          2.8819999999999997,
          2.365,
          3.028,
          2.104,
          3.49,
          2.907,
          2.512,
          3.237,
          2.8489999999999998,
          3.358,
          2.571,
          3.0260000000000002,
          2.943,
          3.096,
          3.174,
          3.306,
          3.69,
          3.215,
          3.295,
          3.785,
          3.403,
          3.278,
          3.3539999999999996,
          3.1460000000000004,
          3.755,
          2.697,
          3.7460000000000004,
          2.784,
          3.614,
          2.783,
          3.425,
          3.355,
          3.408,
          3.452,
          3.4419999999999997,
          3.366,
          3.445,
          3.6180000000000003,
          2.596,
          3.267,
          3.648,
          3.4389999999999996,
          3.784,
          3.4939999999999998,
          3.675,
          3.818,
          3.463,
          3.733,
          3.6439999999999997,
          3.025,
          3.522,
          3.505,
          3.426,
          3.562,
          3.674,
          3.5639999999999996,
          3.737,
          3.6889999999999996,
          3.889,
          3.469,
          4.043,
          3.78,
          3.2880000000000003,
          3.391,
          3.489,
          3.34,
          3.428,
          3.4189999999999996,
          3.213,
          3.6430000000000002,
          3.4560000000000004,
          3.4789999999999996,
          3.636,
          3.6310000000000002,
          3.4330000000000003,
          3.853
         ],
         "yaxis": "y"
        },
        {
         "name": "Regression Fit",
         "type": "scatter",
         "x": [
          0,
          2.121212121212121,
          4.242424242424242,
          6.363636363636363,
          8.484848484848484,
          10.606060606060606,
          12.727272727272727,
          14.848484848484848,
          16.96969696969697,
          19.09090909090909,
          21.21212121212121,
          23.333333333333332,
          25.454545454545453,
          27.575757575757574,
          29.696969696969695,
          31.818181818181817,
          33.93939393939394,
          36.06060606060606,
          38.18181818181818,
          40.3030303030303,
          42.42424242424242,
          44.54545454545455,
          46.666666666666664,
          48.78787878787878,
          50.90909090909091,
          53.03030303030303,
          55.15151515151515,
          57.272727272727266,
          59.39393939393939,
          61.515151515151516,
          63.63636363636363,
          65.75757575757575,
          67.87878787878788,
          70,
          72.12121212121212,
          74.24242424242424,
          76.36363636363636,
          78.48484848484848,
          80.6060606060606,
          82.72727272727272,
          84.84848484848484,
          86.96969696969697,
          89.0909090909091,
          91.2121212121212,
          93.33333333333333,
          95.45454545454545,
          97.57575757575756,
          99.69696969696969,
          101.81818181818181,
          103.93939393939394,
          106.06060606060606,
          108.18181818181817,
          110.3030303030303,
          112.42424242424242,
          114.54545454545453,
          116.66666666666666,
          118.78787878787878,
          120.9090909090909,
          123.03030303030303,
          125.15151515151514,
          127.27272727272727,
          129.39393939393938,
          131.5151515151515,
          133.63636363636363,
          135.75757575757575,
          137.87878787878788,
          140,
          142.12121212121212,
          144.24242424242425,
          146.36363636363635,
          148.48484848484847,
          150.6060606060606,
          152.72727272727272,
          154.84848484848484,
          156.96969696969697,
          159.0909090909091,
          161.2121212121212,
          163.33333333333331,
          165.45454545454544,
          167.57575757575756,
          169.6969696969697,
          171.8181818181818,
          173.93939393939394,
          176.06060606060606,
          178.1818181818182,
          180.30303030303028,
          182.4242424242424,
          184.54545454545453,
          186.66666666666666,
          188.78787878787878,
          190.9090909090909,
          193.03030303030303,
          195.15151515151513,
          197.27272727272725,
          199.39393939393938,
          201.5151515151515,
          203.63636363636363,
          205.75757575757575,
          207.87878787878788,
          210
         ],
         "y": [
          3.43862100995723,
          3.43382141519909,
          3.429021820440949,
          3.4242222256828088,
          3.419422630924668,
          3.4146230361665277,
          3.4098234414083874,
          3.4050238466502467,
          3.4002242518921064,
          3.3954246571339657,
          3.3906250623758254,
          3.3858254676176847,
          3.3810258728595444,
          3.376226278101404,
          3.3714266833432633,
          3.366627088585123,
          3.3618274938269823,
          3.357027899068842,
          3.3522283043107017,
          3.347428709552561,
          3.3426291147944207,
          3.33782952003628,
          3.3330299252781397,
          3.3282303305199994,
          3.3234307357618587,
          3.3186311410037184,
          3.3138315462455776,
          3.3090319514874373,
          3.304232356729297,
          3.2994327619711563,
          3.294633167213016,
          3.2898335724548753,
          3.285033977696735,
          3.2802343829385947,
          3.275434788180454,
          3.2706351934223137,
          3.265835598664173,
          3.2610360039060327,
          3.256236409147892,
          3.2514368143897516,
          3.2466372196316113,
          3.2418376248734706,
          3.2370380301153303,
          3.2322384353571896,
          3.2274388405990493,
          3.222639245840909,
          3.2178396510827683,
          3.213040056324628,
          3.2082404615664872,
          3.203440866808347,
          3.1986412720502067,
          3.193841677292066,
          3.1890420825339256,
          3.184242487775785,
          3.1794428930176446,
          3.174643298259504,
          3.1698437035013636,
          3.1650441087432233,
          3.1602445139850825,
          3.1554449192269423,
          3.150645324468802,
          3.1458457297106612,
          3.141046134952521,
          3.13624654019438,
          3.13144694543624,
          3.126647350678099,
          3.121847755919959,
          3.1170481611618186,
          3.112248566403678,
          3.1074489716455376,
          3.102649376887397,
          3.0978497821292565,
          3.0930501873711163,
          3.0882505926129755,
          3.0834509978548352,
          3.0786514030966945,
          3.073851808338554,
          3.069052213580414,
          3.064252618822273,
          3.059453024064133,
          3.054653429305992,
          3.049853834547852,
          3.045054239789711,
          3.040254645031571,
          3.0354550502734305,
          3.03065545551529,
          3.0258558607571495,
          3.0210562659990092,
          3.0162566712408685,
          3.011457076482728,
          3.0066574817245875,
          3.001857886966447,
          2.9970582922083064,
          2.992258697450166,
          2.987459102692026,
          2.982659507933885,
          2.977859913175745,
          2.973060318417604,
          2.968260723659464,
          2.963461128901323
         ]
        }
       ],
       "layout": {
        "legend": {
         "tracegroupgap": 0
        },
        "margin": {
         "t": 60
        },
        "template": {
         "data": {
          "bar": [
           {
            "error_x": {
             "color": "#2a3f5f"
            },
            "error_y": {
             "color": "#2a3f5f"
            },
            "marker": {
             "line": {
              "color": "#E5ECF6",
              "width": 0.5
             }
            },
            "type": "bar"
           }
          ],
          "barpolar": [
           {
            "marker": {
             "line": {
              "color": "#E5ECF6",
              "width": 0.5
             }
            },
            "type": "barpolar"
           }
          ],
          "carpet": [
           {
            "aaxis": {
             "endlinecolor": "#2a3f5f",
             "gridcolor": "white",
             "linecolor": "white",
             "minorgridcolor": "white",
             "startlinecolor": "#2a3f5f"
            },
            "baxis": {
             "endlinecolor": "#2a3f5f",
             "gridcolor": "white",
             "linecolor": "white",
             "minorgridcolor": "white",
             "startlinecolor": "#2a3f5f"
            },
            "type": "carpet"
           }
          ],
          "choropleth": [
           {
            "colorbar": {
             "outlinewidth": 0,
             "ticks": ""
            },
            "type": "choropleth"
           }
          ],
          "contour": [
           {
            "colorbar": {
             "outlinewidth": 0,
             "ticks": ""
            },
            "colorscale": [
             [
              0,
              "#0d0887"
             ],
             [
              0.1111111111111111,
              "#46039f"
             ],
             [
              0.2222222222222222,
              "#7201a8"
             ],
             [
              0.3333333333333333,
              "#9c179e"
             ],
             [
              0.4444444444444444,
              "#bd3786"
             ],
             [
              0.5555555555555556,
              "#d8576b"
             ],
             [
              0.6666666666666666,
              "#ed7953"
             ],
             [
              0.7777777777777778,
              "#fb9f3a"
             ],
             [
              0.8888888888888888,
              "#fdca26"
             ],
             [
              1,
              "#f0f921"
             ]
            ],
            "type": "contour"
           }
          ],
          "contourcarpet": [
           {
            "colorbar": {
             "outlinewidth": 0,
             "ticks": ""
            },
            "type": "contourcarpet"
           }
          ],
          "heatmap": [
           {
            "colorbar": {
             "outlinewidth": 0,
             "ticks": ""
            },
            "colorscale": [
             [
              0,
              "#0d0887"
             ],
             [
              0.1111111111111111,
              "#46039f"
             ],
             [
              0.2222222222222222,
              "#7201a8"
             ],
             [
              0.3333333333333333,
              "#9c179e"
             ],
             [
              0.4444444444444444,
              "#bd3786"
             ],
             [
              0.5555555555555556,
              "#d8576b"
             ],
             [
              0.6666666666666666,
              "#ed7953"
             ],
             [
              0.7777777777777778,
              "#fb9f3a"
             ],
             [
              0.8888888888888888,
              "#fdca26"
             ],
             [
              1,
              "#f0f921"
             ]
            ],
            "type": "heatmap"
           }
          ],
          "heatmapgl": [
           {
            "colorbar": {
             "outlinewidth": 0,
             "ticks": ""
            },
            "colorscale": [
             [
              0,
              "#0d0887"
             ],
             [
              0.1111111111111111,
              "#46039f"
             ],
             [
              0.2222222222222222,
              "#7201a8"
             ],
             [
              0.3333333333333333,
              "#9c179e"
             ],
             [
              0.4444444444444444,
              "#bd3786"
             ],
             [
              0.5555555555555556,
              "#d8576b"
             ],
             [
              0.6666666666666666,
              "#ed7953"
             ],
             [
              0.7777777777777778,
              "#fb9f3a"
             ],
             [
              0.8888888888888888,
              "#fdca26"
             ],
             [
              1,
              "#f0f921"
             ]
            ],
            "type": "heatmapgl"
           }
          ],
          "histogram": [
           {
            "marker": {
             "colorbar": {
              "outlinewidth": 0,
              "ticks": ""
             }
            },
            "type": "histogram"
           }
          ],
          "histogram2d": [
           {
            "colorbar": {
             "outlinewidth": 0,
             "ticks": ""
            },
            "colorscale": [
             [
              0,
              "#0d0887"
             ],
             [
              0.1111111111111111,
              "#46039f"
             ],
             [
              0.2222222222222222,
              "#7201a8"
             ],
             [
              0.3333333333333333,
              "#9c179e"
             ],
             [
              0.4444444444444444,
              "#bd3786"
             ],
             [
              0.5555555555555556,
              "#d8576b"
             ],
             [
              0.6666666666666666,
              "#ed7953"
             ],
             [
              0.7777777777777778,
              "#fb9f3a"
             ],
             [
              0.8888888888888888,
              "#fdca26"
             ],
             [
              1,
              "#f0f921"
             ]
            ],
            "type": "histogram2d"
           }
          ],
          "histogram2dcontour": [
           {
            "colorbar": {
             "outlinewidth": 0,
             "ticks": ""
            },
            "colorscale": [
             [
              0,
              "#0d0887"
             ],
             [
              0.1111111111111111,
              "#46039f"
             ],
             [
              0.2222222222222222,
              "#7201a8"
             ],
             [
              0.3333333333333333,
              "#9c179e"
             ],
             [
              0.4444444444444444,
              "#bd3786"
             ],
             [
              0.5555555555555556,
              "#d8576b"
             ],
             [
              0.6666666666666666,
              "#ed7953"
             ],
             [
              0.7777777777777778,
              "#fb9f3a"
             ],
             [
              0.8888888888888888,
              "#fdca26"
             ],
             [
              1,
              "#f0f921"
             ]
            ],
            "type": "histogram2dcontour"
           }
          ],
          "mesh3d": [
           {
            "colorbar": {
             "outlinewidth": 0,
             "ticks": ""
            },
            "type": "mesh3d"
           }
          ],
          "parcoords": [
           {
            "line": {
             "colorbar": {
              "outlinewidth": 0,
              "ticks": ""
             }
            },
            "type": "parcoords"
           }
          ],
          "pie": [
           {
            "automargin": true,
            "type": "pie"
           }
          ],
          "scatter": [
           {
            "marker": {
             "colorbar": {
              "outlinewidth": 0,
              "ticks": ""
             }
            },
            "type": "scatter"
           }
          ],
          "scatter3d": [
           {
            "line": {
             "colorbar": {
              "outlinewidth": 0,
              "ticks": ""
             }
            },
            "marker": {
             "colorbar": {
              "outlinewidth": 0,
              "ticks": ""
             }
            },
            "type": "scatter3d"
           }
          ],
          "scattercarpet": [
           {
            "marker": {
             "colorbar": {
              "outlinewidth": 0,
              "ticks": ""
             }
            },
            "type": "scattercarpet"
           }
          ],
          "scattergeo": [
           {
            "marker": {
             "colorbar": {
              "outlinewidth": 0,
              "ticks": ""
             }
            },
            "type": "scattergeo"
           }
          ],
          "scattergl": [
           {
            "marker": {
             "colorbar": {
              "outlinewidth": 0,
              "ticks": ""
             }
            },
            "type": "scattergl"
           }
          ],
          "scattermapbox": [
           {
            "marker": {
             "colorbar": {
              "outlinewidth": 0,
              "ticks": ""
             }
            },
            "type": "scattermapbox"
           }
          ],
          "scatterpolar": [
           {
            "marker": {
             "colorbar": {
              "outlinewidth": 0,
              "ticks": ""
             }
            },
            "type": "scatterpolar"
           }
          ],
          "scatterpolargl": [
           {
            "marker": {
             "colorbar": {
              "outlinewidth": 0,
              "ticks": ""
             }
            },
            "type": "scatterpolargl"
           }
          ],
          "scatterternary": [
           {
            "marker": {
             "colorbar": {
              "outlinewidth": 0,
              "ticks": ""
             }
            },
            "type": "scatterternary"
           }
          ],
          "surface": [
           {
            "colorbar": {
             "outlinewidth": 0,
             "ticks": ""
            },
            "colorscale": [
             [
              0,
              "#0d0887"
             ],
             [
              0.1111111111111111,
              "#46039f"
             ],
             [
              0.2222222222222222,
              "#7201a8"
             ],
             [
              0.3333333333333333,
              "#9c179e"
             ],
             [
              0.4444444444444444,
              "#bd3786"
             ],
             [
              0.5555555555555556,
              "#d8576b"
             ],
             [
              0.6666666666666666,
              "#ed7953"
             ],
             [
              0.7777777777777778,
              "#fb9f3a"
             ],
             [
              0.8888888888888888,
              "#fdca26"
             ],
             [
              1,
              "#f0f921"
             ]
            ],
            "type": "surface"
           }
          ],
          "table": [
           {
            "cells": {
             "fill": {
              "color": "#EBF0F8"
             },
             "line": {
              "color": "white"
             }
            },
            "header": {
             "fill": {
              "color": "#C8D4E3"
             },
             "line": {
              "color": "white"
             }
            },
            "type": "table"
           }
          ]
         },
         "layout": {
          "annotationdefaults": {
           "arrowcolor": "#2a3f5f",
           "arrowhead": 0,
           "arrowwidth": 1
          },
          "autotypenumbers": "strict",
          "coloraxis": {
           "colorbar": {
            "outlinewidth": 0,
            "ticks": ""
           }
          },
          "colorscale": {
           "diverging": [
            [
             0,
             "#8e0152"
            ],
            [
             0.1,
             "#c51b7d"
            ],
            [
             0.2,
             "#de77ae"
            ],
            [
             0.3,
             "#f1b6da"
            ],
            [
             0.4,
             "#fde0ef"
            ],
            [
             0.5,
             "#f7f7f7"
            ],
            [
             0.6,
             "#e6f5d0"
            ],
            [
             0.7,
             "#b8e186"
            ],
            [
             0.8,
             "#7fbc41"
            ],
            [
             0.9,
             "#4d9221"
            ],
            [
             1,
             "#276419"
            ]
           ],
           "sequential": [
            [
             0,
             "#0d0887"
            ],
            [
             0.1111111111111111,
             "#46039f"
            ],
            [
             0.2222222222222222,
             "#7201a8"
            ],
            [
             0.3333333333333333,
             "#9c179e"
            ],
            [
             0.4444444444444444,
             "#bd3786"
            ],
            [
             0.5555555555555556,
             "#d8576b"
            ],
            [
             0.6666666666666666,
             "#ed7953"
            ],
            [
             0.7777777777777778,
             "#fb9f3a"
            ],
            [
             0.8888888888888888,
             "#fdca26"
            ],
            [
             1,
             "#f0f921"
            ]
           ],
           "sequentialminus": [
            [
             0,
             "#0d0887"
            ],
            [
             0.1111111111111111,
             "#46039f"
            ],
            [
             0.2222222222222222,
             "#7201a8"
            ],
            [
             0.3333333333333333,
             "#9c179e"
            ],
            [
             0.4444444444444444,
             "#bd3786"
            ],
            [
             0.5555555555555556,
             "#d8576b"
            ],
            [
             0.6666666666666666,
             "#ed7953"
            ],
            [
             0.7777777777777778,
             "#fb9f3a"
            ],
            [
             0.8888888888888888,
             "#fdca26"
            ],
            [
             1,
             "#f0f921"
            ]
           ]
          },
          "colorway": [
           "#636efa",
           "#EF553B",
           "#00cc96",
           "#ab63fa",
           "#FFA15A",
           "#19d3f3",
           "#FF6692",
           "#B6E880",
           "#FF97FF",
           "#FECB52"
          ],
          "font": {
           "color": "#2a3f5f"
          },
          "geo": {
           "bgcolor": "white",
           "lakecolor": "white",
           "landcolor": "#E5ECF6",
           "showlakes": true,
           "showland": true,
           "subunitcolor": "white"
          },
          "hoverlabel": {
           "align": "left"
          },
          "hovermode": "closest",
          "mapbox": {
           "style": "light"
          },
          "paper_bgcolor": "white",
          "plot_bgcolor": "#E5ECF6",
          "polar": {
           "angularaxis": {
            "gridcolor": "white",
            "linecolor": "white",
            "ticks": ""
           },
           "bgcolor": "#E5ECF6",
           "radialaxis": {
            "gridcolor": "white",
            "linecolor": "white",
            "ticks": ""
           }
          },
          "scene": {
           "xaxis": {
            "backgroundcolor": "#E5ECF6",
            "gridcolor": "white",
            "gridwidth": 2,
            "linecolor": "white",
            "showbackground": true,
            "ticks": "",
            "zerolinecolor": "white"
           },
           "yaxis": {
            "backgroundcolor": "#E5ECF6",
            "gridcolor": "white",
            "gridwidth": 2,
            "linecolor": "white",
            "showbackground": true,
            "ticks": "",
            "zerolinecolor": "white"
           },
           "zaxis": {
            "backgroundcolor": "#E5ECF6",
            "gridcolor": "white",
            "gridwidth": 2,
            "linecolor": "white",
            "showbackground": true,
            "ticks": "",
            "zerolinecolor": "white"
           }
          },
          "shapedefaults": {
           "line": {
            "color": "#2a3f5f"
           }
          },
          "ternary": {
           "aaxis": {
            "gridcolor": "white",
            "linecolor": "white",
            "ticks": ""
           },
           "baxis": {
            "gridcolor": "white",
            "linecolor": "white",
            "ticks": ""
           },
           "bgcolor": "#E5ECF6",
           "caxis": {
            "gridcolor": "white",
            "linecolor": "white",
            "ticks": ""
           }
          },
          "title": {
           "x": 0.05
          },
          "xaxis": {
           "automargin": true,
           "gridcolor": "white",
           "linecolor": "white",
           "ticks": "",
           "title": {
            "standoff": 15
           },
           "zerolinecolor": "white",
           "zerolinewidth": 2
          },
          "yaxis": {
           "automargin": true,
           "gridcolor": "white",
           "linecolor": "white",
           "ticks": "",
           "title": {
            "standoff": 15
           },
           "zerolinecolor": "white",
           "zerolinewidth": 2
          }
         }
        },
        "xaxis": {
         "anchor": "y",
         "domain": [
          0,
          1
         ],
         "title": {
          "text": "total_elevation_gain"
         }
        },
        "yaxis": {
         "anchor": "x",
         "domain": [
          0,
          1
         ],
         "title": {
          "text": "average_speed"
         }
        }
       }
      },
      "text/html": [
       "<div>                            <div id=\"418e66a3-56f0-44ac-9381-51707e6a5eba\" class=\"plotly-graph-div\" style=\"height:525px; width:100%;\"></div>            <script type=\"text/javascript\">                require([\"plotly\"], function(Plotly) {                    window.PLOTLYENV=window.PLOTLYENV || {};                                    if (document.getElementById(\"418e66a3-56f0-44ac-9381-51707e6a5eba\")) {                    Plotly.newPlot(                        \"418e66a3-56f0-44ac-9381-51707e6a5eba\",                        [{\"hovertemplate\": \"total_elevation_gain=%{x}<br>average_speed=%{y}<extra></extra>\", \"legendgroup\": \"\", \"marker\": {\"color\": \"#636efa\", \"opacity\": 0.65, \"symbol\": \"circle\"}, \"mode\": \"markers\", \"name\": \"\", \"orientation\": \"v\", \"showlegend\": false, \"type\": \"scatter\", \"x\": [21.0, 12.0, 57.0, 165.0, 29.0, 17.0, 36.0, 57.0, 51.0, 29.0, 12.0, 52.0, 32.0, 26.0, 45.0, 9.0, 30.0, 37.0, 38.0, 49.0, 23.0, 43.0, 24.0, 7.0, 34.0, 44.0, 32.0, 39.0, 44.0, 56.0, 21.0, 44.0, 29.0, 26.0, 29.0, 27.0, 32.0, 12.0, 18.0, 7.0, 56.0, 32.0, 19.0, 29.0, 7.0, 23.0, 28.0, 25.0, 10.0, 59.0, 28.0, 46.0, 24.0, 44.0, 23.0, 13.0, 5.0, 24.0, 15.0, 23.0, 16.0, 8.0, 42.0, 3.0, 21.0, 9.0, 41.0, 29.0, 6.0, 27.0, 20.0, 40.0, 7.0, 18.0, 6.0, 23.0, 34.0, 3.0, 5.0, 15.0, 22.0, 10.0, 18.0, 24.0, 5.0, 7.0, 2.0, 6.0, 5.0, 31.0, 5.0, 18.0, 30.0, 21.0, 77.0, 30.0, 70.0, 123.0, 41.0, 70.0, 39.0, 49.0, 66.0, 210.0, 23.0, 0.0, 20.0, 68.0, 124.0, 75.0, 62.0, 42.0, 125.0, 109.0, 63.0, 112.0, 110.0, 99.0, 23.0, 119.0, 99.0, 19.0, 29.0, 121.0, 33.0, 119.0, 7.0, 22.0, 5.0, 6.0, 6.0, 4.0, 39.0, 119.0, 39.0, 108.0, 66.0, 118.0, 54.0, 124.0, 5.0, 34.0, 3.0, 57.0, 19.0, 121.0, 6.0, 42.0, 122.0, 57.0, 5.0, 5.0, 8.0, 127.0, 121.0, 21.0, 47.0, 83.0, 20.0, 56.0, 11.0, 104.0, 7.0, 16.0, 28.0, 75.0, 130.0, 40.0, 91.0, 38.0, 37.0, 86.0, 32.0, 37.0, 65.0, 18.0, 92.0, 7.0], \"xaxis\": \"x\", \"y\": [3.642, 3.728, 3.5589999999999997, 2.6910000000000003, 3.517, 3.603, 3.509, 3.1239999999999997, 3.6010000000000004, 3.48, 2.5869999999999997, 2.773, 2.396, 3.4339999999999997, 3.5860000000000003, 3.673, 3.555, 3.6319999999999997, 3.637, 3.6310000000000002, 3.466, 3.6, 3.366, 3.3930000000000002, 3.523, 2.8930000000000002, 3.5010000000000003, 3.4939999999999998, 3.557, 3.5860000000000003, 3.696, 3.5589999999999997, 2.431, 2.6260000000000003, 3.5189999999999997, 2.398, 3.498, 3.156, 3.65, 3.6919999999999997, 3.545, 3.6689999999999996, 2.705, 3.2260000000000004, 2.64, 2.469, 3.043, 3.3280000000000003, 3.597, 3.335, 3.545, 3.458, 3.617, 2.821, 3.685, 2.6630000000000003, 3.7510000000000003, 3.464, 3.767, 3.0069999999999997, 3.395, 3.389, 3.478, 3.5589999999999997, 3.437, 3.6719999999999997, 3.426, 3.42, 3.747, 3.5660000000000003, 3.383, 3.446, 2.611, 3.423, 3.792, 3.502, 3.52, 3.615, 2.521, 3.3760000000000003, 3.42, 3.805, 3.5610000000000004, 3.2889999999999997, 3.8480000000000003, 3.4130000000000003, 3.364, 3.432, 3.866, 3.083, 3.2960000000000003, 3.074, 3.299, 3.375, 3.306, 3.4619999999999997, 2.702, 2.412, 3.469, 2.647, 3.425, 3.014, 2.8819999999999997, 2.365, 3.028, 2.104, 3.49, 2.907, 2.512, 3.237, 2.8489999999999998, 3.358, 2.571, 3.0260000000000002, 2.943, 3.096, 3.174, 3.306, 3.69, 3.215, 3.295, 3.785, 3.403, 3.278, 3.3539999999999996, 3.1460000000000004, 3.755, 2.697, 3.7460000000000004, 2.784, 3.614, 2.783, 3.425, 3.355, 3.408, 3.452, 3.4419999999999997, 3.366, 3.445, 3.6180000000000003, 2.596, 3.267, 3.648, 3.4389999999999996, 3.784, 3.4939999999999998, 3.675, 3.818, 3.463, 3.733, 3.6439999999999997, 3.025, 3.522, 3.505, 3.426, 3.562, 3.674, 3.5639999999999996, 3.737, 3.6889999999999996, 3.889, 3.469, 4.043, 3.78, 3.2880000000000003, 3.391, 3.489, 3.34, 3.428, 3.4189999999999996, 3.213, 3.6430000000000002, 3.4560000000000004, 3.4789999999999996, 3.636, 3.6310000000000002, 3.4330000000000003, 3.853], \"yaxis\": \"y\"}, {\"name\": \"Regression Fit\", \"type\": \"scatter\", \"x\": [0.0, 2.121212121212121, 4.242424242424242, 6.363636363636363, 8.484848484848484, 10.606060606060606, 12.727272727272727, 14.848484848484848, 16.96969696969697, 19.09090909090909, 21.21212121212121, 23.333333333333332, 25.454545454545453, 27.575757575757574, 29.696969696969695, 31.818181818181817, 33.93939393939394, 36.06060606060606, 38.18181818181818, 40.3030303030303, 42.42424242424242, 44.54545454545455, 46.666666666666664, 48.78787878787878, 50.90909090909091, 53.03030303030303, 55.15151515151515, 57.272727272727266, 59.39393939393939, 61.515151515151516, 63.63636363636363, 65.75757575757575, 67.87878787878788, 70.0, 72.12121212121212, 74.24242424242424, 76.36363636363636, 78.48484848484848, 80.6060606060606, 82.72727272727272, 84.84848484848484, 86.96969696969697, 89.0909090909091, 91.2121212121212, 93.33333333333333, 95.45454545454545, 97.57575757575756, 99.69696969696969, 101.81818181818181, 103.93939393939394, 106.06060606060606, 108.18181818181817, 110.3030303030303, 112.42424242424242, 114.54545454545453, 116.66666666666666, 118.78787878787878, 120.9090909090909, 123.03030303030303, 125.15151515151514, 127.27272727272727, 129.39393939393938, 131.5151515151515, 133.63636363636363, 135.75757575757575, 137.87878787878788, 140.0, 142.12121212121212, 144.24242424242425, 146.36363636363635, 148.48484848484847, 150.6060606060606, 152.72727272727272, 154.84848484848484, 156.96969696969697, 159.0909090909091, 161.2121212121212, 163.33333333333331, 165.45454545454544, 167.57575757575756, 169.6969696969697, 171.8181818181818, 173.93939393939394, 176.06060606060606, 178.1818181818182, 180.30303030303028, 182.4242424242424, 184.54545454545453, 186.66666666666666, 188.78787878787878, 190.9090909090909, 193.03030303030303, 195.15151515151513, 197.27272727272725, 199.39393939393938, 201.5151515151515, 203.63636363636363, 205.75757575757575, 207.87878787878788, 210.0], \"y\": [3.43862100995723, 3.43382141519909, 3.429021820440949, 3.4242222256828088, 3.419422630924668, 3.4146230361665277, 3.4098234414083874, 3.4050238466502467, 3.4002242518921064, 3.3954246571339657, 3.3906250623758254, 3.3858254676176847, 3.3810258728595444, 3.376226278101404, 3.3714266833432633, 3.366627088585123, 3.3618274938269823, 3.357027899068842, 3.3522283043107017, 3.347428709552561, 3.3426291147944207, 3.33782952003628, 3.3330299252781397, 3.3282303305199994, 3.3234307357618587, 3.3186311410037184, 3.3138315462455776, 3.3090319514874373, 3.304232356729297, 3.2994327619711563, 3.294633167213016, 3.2898335724548753, 3.285033977696735, 3.2802343829385947, 3.275434788180454, 3.2706351934223137, 3.265835598664173, 3.2610360039060327, 3.256236409147892, 3.2514368143897516, 3.2466372196316113, 3.2418376248734706, 3.2370380301153303, 3.2322384353571896, 3.2274388405990493, 3.222639245840909, 3.2178396510827683, 3.213040056324628, 3.2082404615664872, 3.203440866808347, 3.1986412720502067, 3.193841677292066, 3.1890420825339256, 3.184242487775785, 3.1794428930176446, 3.174643298259504, 3.1698437035013636, 3.1650441087432233, 3.1602445139850825, 3.1554449192269423, 3.150645324468802, 3.1458457297106612, 3.141046134952521, 3.13624654019438, 3.13144694543624, 3.126647350678099, 3.121847755919959, 3.1170481611618186, 3.112248566403678, 3.1074489716455376, 3.102649376887397, 3.0978497821292565, 3.0930501873711163, 3.0882505926129755, 3.0834509978548352, 3.0786514030966945, 3.073851808338554, 3.069052213580414, 3.064252618822273, 3.059453024064133, 3.054653429305992, 3.049853834547852, 3.045054239789711, 3.040254645031571, 3.0354550502734305, 3.03065545551529, 3.0258558607571495, 3.0210562659990092, 3.0162566712408685, 3.011457076482728, 3.0066574817245875, 3.001857886966447, 2.9970582922083064, 2.992258697450166, 2.987459102692026, 2.982659507933885, 2.977859913175745, 2.973060318417604, 2.968260723659464, 2.963461128901323]}],                        {\"legend\": {\"tracegroupgap\": 0}, \"margin\": {\"t\": 60}, \"template\": {\"data\": {\"bar\": [{\"error_x\": {\"color\": \"#2a3f5f\"}, \"error_y\": {\"color\": \"#2a3f5f\"}, \"marker\": {\"line\": {\"color\": \"#E5ECF6\", \"width\": 0.5}}, \"type\": \"bar\"}], \"barpolar\": [{\"marker\": {\"line\": {\"color\": \"#E5ECF6\", \"width\": 0.5}}, \"type\": \"barpolar\"}], \"carpet\": [{\"aaxis\": {\"endlinecolor\": \"#2a3f5f\", \"gridcolor\": \"white\", \"linecolor\": \"white\", \"minorgridcolor\": \"white\", \"startlinecolor\": \"#2a3f5f\"}, \"baxis\": {\"endlinecolor\": \"#2a3f5f\", \"gridcolor\": \"white\", \"linecolor\": \"white\", \"minorgridcolor\": \"white\", \"startlinecolor\": \"#2a3f5f\"}, \"type\": \"carpet\"}], \"choropleth\": [{\"colorbar\": {\"outlinewidth\": 0, \"ticks\": \"\"}, \"type\": \"choropleth\"}], \"contour\": [{\"colorbar\": {\"outlinewidth\": 0, \"ticks\": \"\"}, \"colorscale\": [[0.0, \"#0d0887\"], [0.1111111111111111, \"#46039f\"], [0.2222222222222222, \"#7201a8\"], [0.3333333333333333, \"#9c179e\"], [0.4444444444444444, \"#bd3786\"], [0.5555555555555556, \"#d8576b\"], [0.6666666666666666, \"#ed7953\"], [0.7777777777777778, \"#fb9f3a\"], [0.8888888888888888, \"#fdca26\"], [1.0, \"#f0f921\"]], \"type\": \"contour\"}], \"contourcarpet\": [{\"colorbar\": {\"outlinewidth\": 0, \"ticks\": \"\"}, \"type\": \"contourcarpet\"}], \"heatmap\": [{\"colorbar\": {\"outlinewidth\": 0, \"ticks\": \"\"}, \"colorscale\": [[0.0, \"#0d0887\"], [0.1111111111111111, \"#46039f\"], [0.2222222222222222, \"#7201a8\"], [0.3333333333333333, \"#9c179e\"], [0.4444444444444444, \"#bd3786\"], [0.5555555555555556, \"#d8576b\"], [0.6666666666666666, \"#ed7953\"], [0.7777777777777778, \"#fb9f3a\"], [0.8888888888888888, \"#fdca26\"], [1.0, \"#f0f921\"]], \"type\": \"heatmap\"}], \"heatmapgl\": [{\"colorbar\": {\"outlinewidth\": 0, \"ticks\": \"\"}, \"colorscale\": [[0.0, \"#0d0887\"], [0.1111111111111111, \"#46039f\"], [0.2222222222222222, \"#7201a8\"], [0.3333333333333333, \"#9c179e\"], [0.4444444444444444, \"#bd3786\"], [0.5555555555555556, \"#d8576b\"], [0.6666666666666666, \"#ed7953\"], [0.7777777777777778, \"#fb9f3a\"], [0.8888888888888888, \"#fdca26\"], [1.0, \"#f0f921\"]], \"type\": \"heatmapgl\"}], \"histogram\": [{\"marker\": {\"colorbar\": {\"outlinewidth\": 0, \"ticks\": \"\"}}, \"type\": \"histogram\"}], \"histogram2d\": [{\"colorbar\": {\"outlinewidth\": 0, \"ticks\": \"\"}, \"colorscale\": [[0.0, \"#0d0887\"], [0.1111111111111111, \"#46039f\"], [0.2222222222222222, \"#7201a8\"], [0.3333333333333333, \"#9c179e\"], [0.4444444444444444, \"#bd3786\"], [0.5555555555555556, \"#d8576b\"], [0.6666666666666666, \"#ed7953\"], [0.7777777777777778, \"#fb9f3a\"], [0.8888888888888888, \"#fdca26\"], [1.0, \"#f0f921\"]], \"type\": \"histogram2d\"}], \"histogram2dcontour\": [{\"colorbar\": {\"outlinewidth\": 0, \"ticks\": \"\"}, \"colorscale\": [[0.0, \"#0d0887\"], [0.1111111111111111, \"#46039f\"], [0.2222222222222222, \"#7201a8\"], [0.3333333333333333, \"#9c179e\"], [0.4444444444444444, \"#bd3786\"], [0.5555555555555556, \"#d8576b\"], [0.6666666666666666, \"#ed7953\"], [0.7777777777777778, \"#fb9f3a\"], [0.8888888888888888, \"#fdca26\"], [1.0, \"#f0f921\"]], \"type\": \"histogram2dcontour\"}], \"mesh3d\": [{\"colorbar\": {\"outlinewidth\": 0, \"ticks\": \"\"}, \"type\": \"mesh3d\"}], \"parcoords\": [{\"line\": {\"colorbar\": {\"outlinewidth\": 0, \"ticks\": \"\"}}, \"type\": \"parcoords\"}], \"pie\": [{\"automargin\": true, \"type\": \"pie\"}], \"scatter\": [{\"marker\": {\"colorbar\": {\"outlinewidth\": 0, \"ticks\": \"\"}}, \"type\": \"scatter\"}], \"scatter3d\": [{\"line\": {\"colorbar\": {\"outlinewidth\": 0, \"ticks\": \"\"}}, \"marker\": {\"colorbar\": {\"outlinewidth\": 0, \"ticks\": \"\"}}, \"type\": \"scatter3d\"}], \"scattercarpet\": [{\"marker\": {\"colorbar\": {\"outlinewidth\": 0, \"ticks\": \"\"}}, \"type\": \"scattercarpet\"}], \"scattergeo\": [{\"marker\": {\"colorbar\": {\"outlinewidth\": 0, \"ticks\": \"\"}}, \"type\": \"scattergeo\"}], \"scattergl\": [{\"marker\": {\"colorbar\": {\"outlinewidth\": 0, \"ticks\": \"\"}}, \"type\": \"scattergl\"}], \"scattermapbox\": [{\"marker\": {\"colorbar\": {\"outlinewidth\": 0, \"ticks\": \"\"}}, \"type\": \"scattermapbox\"}], \"scatterpolar\": [{\"marker\": {\"colorbar\": {\"outlinewidth\": 0, \"ticks\": \"\"}}, \"type\": \"scatterpolar\"}], \"scatterpolargl\": [{\"marker\": {\"colorbar\": {\"outlinewidth\": 0, \"ticks\": \"\"}}, \"type\": \"scatterpolargl\"}], \"scatterternary\": [{\"marker\": {\"colorbar\": {\"outlinewidth\": 0, \"ticks\": \"\"}}, \"type\": \"scatterternary\"}], \"surface\": [{\"colorbar\": {\"outlinewidth\": 0, \"ticks\": \"\"}, \"colorscale\": [[0.0, \"#0d0887\"], [0.1111111111111111, \"#46039f\"], [0.2222222222222222, \"#7201a8\"], [0.3333333333333333, \"#9c179e\"], [0.4444444444444444, \"#bd3786\"], [0.5555555555555556, \"#d8576b\"], [0.6666666666666666, \"#ed7953\"], [0.7777777777777778, \"#fb9f3a\"], [0.8888888888888888, \"#fdca26\"], [1.0, \"#f0f921\"]], \"type\": \"surface\"}], \"table\": [{\"cells\": {\"fill\": {\"color\": \"#EBF0F8\"}, \"line\": {\"color\": \"white\"}}, \"header\": {\"fill\": {\"color\": \"#C8D4E3\"}, \"line\": {\"color\": \"white\"}}, \"type\": \"table\"}]}, \"layout\": {\"annotationdefaults\": {\"arrowcolor\": \"#2a3f5f\", \"arrowhead\": 0, \"arrowwidth\": 1}, \"autotypenumbers\": \"strict\", \"coloraxis\": {\"colorbar\": {\"outlinewidth\": 0, \"ticks\": \"\"}}, \"colorscale\": {\"diverging\": [[0, \"#8e0152\"], [0.1, \"#c51b7d\"], [0.2, \"#de77ae\"], [0.3, \"#f1b6da\"], [0.4, \"#fde0ef\"], [0.5, \"#f7f7f7\"], [0.6, \"#e6f5d0\"], [0.7, \"#b8e186\"], [0.8, \"#7fbc41\"], [0.9, \"#4d9221\"], [1, \"#276419\"]], \"sequential\": [[0.0, \"#0d0887\"], [0.1111111111111111, \"#46039f\"], [0.2222222222222222, \"#7201a8\"], [0.3333333333333333, \"#9c179e\"], [0.4444444444444444, \"#bd3786\"], [0.5555555555555556, \"#d8576b\"], [0.6666666666666666, \"#ed7953\"], [0.7777777777777778, \"#fb9f3a\"], [0.8888888888888888, \"#fdca26\"], [1.0, \"#f0f921\"]], \"sequentialminus\": [[0.0, \"#0d0887\"], [0.1111111111111111, \"#46039f\"], [0.2222222222222222, \"#7201a8\"], [0.3333333333333333, \"#9c179e\"], [0.4444444444444444, \"#bd3786\"], [0.5555555555555556, \"#d8576b\"], [0.6666666666666666, \"#ed7953\"], [0.7777777777777778, \"#fb9f3a\"], [0.8888888888888888, \"#fdca26\"], [1.0, \"#f0f921\"]]}, \"colorway\": [\"#636efa\", \"#EF553B\", \"#00cc96\", \"#ab63fa\", \"#FFA15A\", \"#19d3f3\", \"#FF6692\", \"#B6E880\", \"#FF97FF\", \"#FECB52\"], \"font\": {\"color\": \"#2a3f5f\"}, \"geo\": {\"bgcolor\": \"white\", \"lakecolor\": \"white\", \"landcolor\": \"#E5ECF6\", \"showlakes\": true, \"showland\": true, \"subunitcolor\": \"white\"}, \"hoverlabel\": {\"align\": \"left\"}, \"hovermode\": \"closest\", \"mapbox\": {\"style\": \"light\"}, \"paper_bgcolor\": \"white\", \"plot_bgcolor\": \"#E5ECF6\", \"polar\": {\"angularaxis\": {\"gridcolor\": \"white\", \"linecolor\": \"white\", \"ticks\": \"\"}, \"bgcolor\": \"#E5ECF6\", \"radialaxis\": {\"gridcolor\": \"white\", \"linecolor\": \"white\", \"ticks\": \"\"}}, \"scene\": {\"xaxis\": {\"backgroundcolor\": \"#E5ECF6\", \"gridcolor\": \"white\", \"gridwidth\": 2, \"linecolor\": \"white\", \"showbackground\": true, \"ticks\": \"\", \"zerolinecolor\": \"white\"}, \"yaxis\": {\"backgroundcolor\": \"#E5ECF6\", \"gridcolor\": \"white\", \"gridwidth\": 2, \"linecolor\": \"white\", \"showbackground\": true, \"ticks\": \"\", \"zerolinecolor\": \"white\"}, \"zaxis\": {\"backgroundcolor\": \"#E5ECF6\", \"gridcolor\": \"white\", \"gridwidth\": 2, \"linecolor\": \"white\", \"showbackground\": true, \"ticks\": \"\", \"zerolinecolor\": \"white\"}}, \"shapedefaults\": {\"line\": {\"color\": \"#2a3f5f\"}}, \"ternary\": {\"aaxis\": {\"gridcolor\": \"white\", \"linecolor\": \"white\", \"ticks\": \"\"}, \"baxis\": {\"gridcolor\": \"white\", \"linecolor\": \"white\", \"ticks\": \"\"}, \"bgcolor\": \"#E5ECF6\", \"caxis\": {\"gridcolor\": \"white\", \"linecolor\": \"white\", \"ticks\": \"\"}}, \"title\": {\"x\": 0.05}, \"xaxis\": {\"automargin\": true, \"gridcolor\": \"white\", \"linecolor\": \"white\", \"ticks\": \"\", \"title\": {\"standoff\": 15}, \"zerolinecolor\": \"white\", \"zerolinewidth\": 2}, \"yaxis\": {\"automargin\": true, \"gridcolor\": \"white\", \"linecolor\": \"white\", \"ticks\": \"\", \"title\": {\"standoff\": 15}, \"zerolinecolor\": \"white\", \"zerolinewidth\": 2}}}, \"xaxis\": {\"anchor\": \"y\", \"domain\": [0.0, 1.0], \"title\": {\"text\": \"total_elevation_gain\"}}, \"yaxis\": {\"anchor\": \"x\", \"domain\": [0.0, 1.0], \"title\": {\"text\": \"average_speed\"}}},                        {\"responsive\": true}                    ).then(function(){\n",
       "                            \n",
       "var gd = document.getElementById('418e66a3-56f0-44ac-9381-51707e6a5eba');\n",
       "var x = new MutationObserver(function (mutations, observer) {{\n",
       "        var display = window.getComputedStyle(gd).display;\n",
       "        if (!display || display === 'none') {{\n",
       "            console.log([gd, 'removed!']);\n",
       "            Plotly.purge(gd);\n",
       "            observer.disconnect();\n",
       "        }}\n",
       "}});\n",
       "\n",
       "// Listen for the removal of the full notebook cells\n",
       "var notebookContainer = gd.closest('#notebook-container');\n",
       "if (notebookContainer) {{\n",
       "    x.observe(notebookContainer, {childList: true});\n",
       "}}\n",
       "\n",
       "// Listen for the clearing of the current output cell\n",
       "var outputEl = gd.closest('.output');\n",
       "if (outputEl) {{\n",
       "    x.observe(outputEl, {childList: true});\n",
       "}}\n",
       "\n",
       "                        })                };                });            </script>        </div>"
      ]
     },
     "metadata": {},
     "output_type": "display_data"
    }
   ],
   "source": [
    "plot_json , plot_json2,run = compare_time_frames(df_strava_combined)\n",
    "\n"
   ]
  },
  {
   "cell_type": "code",
   "execution_count": null,
   "metadata": {},
   "outputs": [],
   "source": [
    "def train_and_display(df, name):\n",
    "    \n",
    "    \"\"\"\n",
    "    Trains the same df from the time split function on three different models to compare:\n",
    "    \n",
    "    Regreesion\n",
    "    k-NN\n",
    "    Decision Tree\n",
    "    \n",
    "    Saves Plotly figure to JSON for front end output\n",
    "    \n",
    "    Args:\n",
    "        df: passed through from compare_time_frames\n",
    "        name: mostly for front end, it is from a drop down menu where you can choose which model to see\n",
    "        \n",
    "    \"\"\"\n",
    "    if name == None:\n",
    "        name = 'knn'\n",
    "    X = run.total_elevation_gain.values[:, None]\n",
    "    X_train, X_test, y_train, y_test = train_test_split(\n",
    "    X, run.average_speed, random_state=42)\n",
    "\n",
    "    models = {'Regression': linear_model.LinearRegression,\n",
    "        'DecisionTree': tree.DecisionTreeRegressor,\n",
    "        'knn': neighbors.KNeighborsRegressor}\n",
    " \n",
    "    model = models[name]()\n",
    "    model.fit(X_train, y_train)\n",
    "\n",
    "    x_range = np.linspace(X.min(), X.max(), 100)\n",
    "    y_range = model.predict(x_range.reshape(-1, 1))\n",
    "\n",
    "    fig = go.Figure([\n",
    "        go.Scatter(x=X_train.squeeze(), y=y_train, \n",
    "                name='train', mode='markers'),\n",
    "        go.Scatter(x=X_test.squeeze(), y=y_test, \n",
    "                name='test', mode='markers'),\n",
    "        go.Scatter(x=x_range, y=y_range, \n",
    "                name='prediction')\n",
    "        ])\n",
    "    \n",
    "    fig.show()\n",
    "    \n",
    "    # saves fig to JSON string for front end\n",
    "    plot_json3 = json.dumps(fig, cls = plotly.utils.PlotlyJSONEncoder)\n",
    "    myText = open(r'graph_3_strava_'+str(name)+'.txt','w')\n",
    "    myString = plot_json3\n",
    "    myText.write(myString)\n",
    "    myText.close()\n",
    "    \n",
    "\n",
    "    \n",
    "   \n",
    "\n",
    "\n",
    "    return plot_json3"
   ]
  },
  {
   "cell_type": "code",
   "execution_count": null,
   "metadata": {},
   "outputs": [],
   "source": [
    "train_and_display(run, name='knn')"
   ]
  },
  {
   "cell_type": "code",
   "execution_count": null,
   "metadata": {},
   "outputs": [],
   "source": [
    "train_and_display(run, name='Regression')"
   ]
  },
  {
   "cell_type": "code",
   "execution_count": null,
   "metadata": {},
   "outputs": [],
   "source": [
    "train_and_display(run, name='DecisionTree')"
   ]
  },
  {
   "cell_type": "code",
   "execution_count": null,
   "metadata": {},
   "outputs": [],
   "source": [
    "def predict_kudos(df):\n",
    "    \"\"\"\n",
    "    This function tries to use Linear Regression to look for features from the Strava API that can best predict \n",
    "    the number of Kudos I am likely to recieve on a given run. The R^2 does not look too promising, however, \n",
    "    there is some hope as more data is obtained daily/automatically from the Stava API\n",
    "    \"\"\"\n",
    "    \n",
    "    cols = ['kudos_count', 'total_photo_count', 'type', 'distance', 'moving_time',   \n",
    "            'average_speed', 'max_speed','total_elevation_gain',\n",
    "            'activity_id','comment_count','average_heartrate','average_temp'\n",
    "        ]\n",
    "    df = df[cols]\n",
    "\n",
    "    mesh_size = .02\n",
    "    margin = 0\n",
    "\n",
    "\n",
    "    X = df[['max_speed', 'distance']]\n",
    "    y = df['kudos_count']\n",
    "    \n",
    "\n",
    "    # Condition the model on sepal width and length, predict the petal width\n",
    "    model = SVR(C=1.)\n",
    "    model.fit(X, y)\n",
    "\n",
    "    # Create a mesh grid on which we will run our model\n",
    "    x_min, x_max = X.max_speed.min() - margin, X.max_speed.max() + margin\n",
    "    y_min, y_max = X.distance.min() - margin, X.distance.max() + margin\n",
    "    xrange = np.arange(x_min, x_max, mesh_size)\n",
    "    yrange = np.arange(y_min, y_max, mesh_size)\n",
    "    xx, yy = np.meshgrid(xrange, yrange)\n",
    "\n",
    "    # Run model\n",
    "    pred = model.predict(np.c_[xx.ravel(), yy.ravel()])\n",
    "    pred = pred.reshape(xx.shape)\n",
    "\n",
    "    # Generate the plot\n",
    "    fig = px.scatter_3d(df, x='max_speed', y='distance', z='kudos_count')\n",
    "    fig.update_traces(marker=dict(size=5))\n",
    "    fig.add_traces(go.Surface(x=xrange, y=yrange, z=pred, name='pred_surface'))\n",
    "    \n",
    "    fig.show()\n",
    "    \n",
    "    # saves fig as JSON string for front end\n",
    "    plot_json4 = json.dumps(fig, cls = plotly.utils.PlotlyJSONEncoder)\n",
    "    myText = open(r'graph_4_strava.txt','w')\n",
    "    myString = plot_json4\n",
    "    myText.write(myString)\n",
    "    myText.close()\n",
    "\n",
    "\n",
    "    return plot_json4"
   ]
  },
  {
   "cell_type": "code",
   "execution_count": null,
   "metadata": {},
   "outputs": [],
   "source": [
    "predict_kudos(df_api)"
   ]
  }
 ],
 "metadata": {
  "kernelspec": {
   "display_name": "Python 3",
   "language": "python",
   "name": "python3"
  },
  "language_info": {
   "codemirror_mode": {
    "name": "ipython",
    "version": 3
   },
   "file_extension": ".py",
   "mimetype": "text/x-python",
   "name": "python",
   "nbconvert_exporter": "python",
   "pygments_lexer": "ipython3",
   "version": "3.8.5"
  }
 },
 "nbformat": 4,
 "nbformat_minor": 4
}
