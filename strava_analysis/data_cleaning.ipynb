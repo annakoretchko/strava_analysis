{
 "cells": [
  {
   "cell_type": "markdown",
   "metadata": {},
   "source": [
    "# Running Exploration (Strava and Garmin)\n",
    "\n",
    "This explores Strava and Garmin data"
   ]
  },
  {
   "cell_type": "code",
   "execution_count": 297,
   "metadata": {},
   "outputs": [],
   "source": [
    "import pandas as pd\n",
    "import numpy as np\n",
    "from datetime import datetime"
   ]
  },
  {
   "cell_type": "code",
   "execution_count": 298,
   "metadata": {},
   "outputs": [],
   "source": [
    "df_garmin_month = pd.read_csv(r'/Users/anna/Google Drive/Projects/garmin_analysis/garmin_analysis/data/Month.csv')\n",
    "df_strava_combined = pd.read_csv(r'/Users/anna/Google Drive/Projects/strava_analysis/strava_analysis/data/combined_activities.csv')\n",
    "df_strava_api = pd.read_csv(r'/Users/anna/Google Drive/Projects/strava_analysis/strava_analysis/data/new_activities_raw.csv')\n",
    "df_strava_historic = pd.read_csv(r'/Users/anna/Google Drive/Projects/strava_analysis/strava_analysis/data/historic_activities_raw.csv')"
   ]
  },
  {
   "cell_type": "code",
   "execution_count": null,
   "metadata": {},
   "outputs": [],
   "source": [
    "df_strava_historic = pd.read_csv(r'/Users/anna/Google Drive/Projects/strava_analysis/strava_analysis/data/historic_activities_raw.csv')"
   ]
  },
  {
   "cell_type": "code",
   "execution_count": 299,
   "metadata": {},
   "outputs": [],
   "source": [
    "# clean new api data\n",
    "# create unique id to match new and old later\n",
    "df_strava_api = df_strava_api.rename(columns = {\"id\" :\"activity_id\"})\n",
    "# convert to miles\n",
    "df_strava_api[\"distance\"] = ((0.621371 * df_strava_api[\"distance\"])/1000).round(decimals = 2)\n",
    "df_strava_api['average_speed'] = df_strava_api['average_speed'].round(decimals = 3)\n",
    "df_strava_api['max_speed'] = df_strava_api['max_speed'].round(decimals = 3)\n",
    "df_strava_api['average_cadence'] = df_strava_api['average_cadence'].round(decimals = 1)\n",
    "df_strava_api['average_watts'] = df_strava_api['average_watts'].round(decimals = 1)\n",
    "#Break date into start time and date\n",
    "df_strava_api['start_date_local'] = pd.to_datetime(df_strava_api['start_date_local'])\n",
    "df_strava_api['start_time'] = df_strava_api['start_date_local'].dt.time\n",
    "df_strava_api['start_date_local'] = df_strava_api['start_date_local'].dt.date\n",
    "# create new column to join with (this is the 'real' date)\n",
    "df_strava_api['activity_date'] = df_strava_api['start_date_local']\n",
    "\n"
   ]
  },
  {
   "cell_type": "code",
   "execution_count": 300,
   "metadata": {},
   "outputs": [],
   "source": [
    "df_strava_historic = df_strava_historic.rename(columns=str.lower)\n",
    "df_strava_historic.columns = df_strava_historic.columns.str.replace(\" \",\"_\")\n",
    "df_strava_historic[\"distance\"] = df_strava_historic[\"distance\"].str.replace(\",\",\"\")"
   ]
  },
  {
   "cell_type": "code",
   "execution_count": 301,
   "metadata": {},
   "outputs": [],
   "source": [
    "# sorted(df_strava_historic.columns.values)\n",
    "# sorted(df_strava_api.columns.values)"
   ]
  },
  {
   "cell_type": "code",
   "execution_count": 302,
   "metadata": {},
   "outputs": [],
   "source": [
    "#df_strava_historic['distance'] = df_strava_historic['distance'].round(decimals = 3)\n",
    "df_strava_historic[\"distance\"] = pd.to_numeric(df_strava_historic[\"distance\"])\n",
    "df_strava_historic['average_speed'].fillna((df_strava_historic['distance'] / df_strava_historic['moving_time'])*1000, inplace=True)\n",
    "df_strava_historic[\"distance\"] = (0.621371 * df_strava_historic[\"distance\"]).round(decimals = 2) # convert to miles\n",
    "df_strava_historic['average_speed'] = df_strava_historic['average_speed'].round(decimals = 3)\n",
    "df_strava_historic['max_speed'] = df_strava_historic['max_speed'].round(decimals = 3)\n",
    "df_strava_historic['average_cadence'] = df_strava_historic['average_cadence'].round(decimals = 1)\n",
    "df_strava_historic['average_watts'] = df_strava_historic['average_watts'].round(decimals = 1)\n",
    "df_strava_historic['activity_date'] = pd.to_datetime(df_strava_historic['activity_date'])\n",
    "df_strava_historic['activity_date'] = df_strava_historic['activity_date'].dt.date\n",
    "\n",
    "\n",
    "\n",
    "\n"
   ]
  },
  {
   "cell_type": "code",
   "execution_count": 303,
   "metadata": {},
   "outputs": [
    {
     "name": "stdout",
     "output_type": "stream",
     "text": [
      "activity_date    True\n",
      "dtype: bool\n",
      "activity_date    2021-05-20\n",
      "Name: 2, dtype: object\n",
      "activity_date    2021-05-20\n",
      "Name: 947, dtype: object\n"
     ]
    }
   ],
   "source": [
    "test_car = 'activity_date'\n",
    "print(df_strava_api.loc[2, [test_car]] == df_strava_historic.loc[947, [test_car]])\n",
    "print(df_strava_api.loc[2, [test_car]])\n",
    "print(df_strava_historic.loc[947, [test_car]])"
   ]
  },
  {
   "cell_type": "code",
   "execution_count": 304,
   "metadata": {},
   "outputs": [],
   "source": [
    "# concats the two dfs\n",
    "df_combo = pd.concat([df_strava_api,df_strava_historic])\n"
   ]
  },
  {
   "cell_type": "code",
   "execution_count": 305,
   "metadata": {},
   "outputs": [],
   "source": [
    "df_combo = df_combo.drop_duplicates(subset=['activity_id'])\n"
   ]
  },
  {
   "cell_type": "code",
   "execution_count": 306,
   "metadata": {},
   "outputs": [
    {
     "name": "stdout",
     "output_type": "stream",
     "text": [
      "['achievement_count', 'activity_date', 'activity_description', 'activity_gear', 'activity_id', 'activity_name', 'activity_type', 'apparent_temperature', 'athlete.id', 'athlete.resource_state', 'athlete_count', 'athlete_weight', 'average_cadence', 'average_grade', 'average_heart_rate', 'average_heartrate', 'average_negative_grade', 'average_positive_grade', 'average_speed', 'average_temp', 'average_temperature', 'average_watts', 'bike', 'bike_weight', 'calories', 'cloud_cover', 'comment_count', 'commute', 'commute.1', 'device_watts', 'dewpoint', 'display_hide_heartrate_option', 'distance', 'distance.1', 'downhill_time', 'elapsed_time', 'elapsed_time.1', 'elev_high', 'elev_low', 'elevation_gain', 'elevation_high', 'elevation_loss', 'elevation_low', 'end_latlng', 'external_id', 'filename', 'flagged', 'from_accepted_tag', 'from_upload', 'gear', 'gear_id', 'grade_adjusted_distance', 'has_heartrate', 'has_kudoed', 'heartrate_opt_out', 'humidity', 'kilojoules', 'kudos_count', 'location_city', 'location_country', 'location_state', 'manual', 'map.id', 'map.resource_state', 'map.summary_polyline', 'max_cadence', 'max_grade', 'max_heart_rate', 'max_heartrate', 'max_speed', 'max_temperature', 'max_watts', 'moon_phase', 'moving_time', 'name', 'number_of_runs', 'other_time', 'perceived_exertion', 'perceived_relative_effort', 'photo_count', 'power_count', 'pr_count', 'precipitation_intensity', 'precipitation_probability', 'precipitation_type', 'prefer_perceived_exertion', 'private', 'relative_effort', 'relative_effort.1', 'resource_state', 'start_date', 'start_date_local', 'start_latitude', 'start_latlng', 'start_longitude', 'start_time', 'sunrise_time', 'sunset_time', 'timezone', 'total_elevation_gain', 'total_photo_count', 'total_weight_lifted', 'total_work', 'trainer', 'type', 'uphill_time', 'upload_id', 'upload_id_str', 'utc_offset', 'uv_index', 'visibility', 'weather_condition', 'weather_observation_time', 'weather_ozone', 'weather_pressure', 'weather_temperature', 'weather_visibility', 'weighted_average_power', 'wind_bearing', 'wind_gust', 'wind_speed', 'workout_type']\n"
     ]
    }
   ],
   "source": [
    "print(sorted(df_combo.columns.values))"
   ]
  },
  {
   "cell_type": "code",
   "execution_count": null,
   "metadata": {},
   "outputs": [],
   "source": []
  }
 ],
 "metadata": {
  "kernelspec": {
   "display_name": "Python 3",
   "language": "python",
   "name": "python3"
  },
  "language_info": {
   "codemirror_mode": {
    "name": "ipython",
    "version": 3
   },
   "file_extension": ".py",
   "mimetype": "text/x-python",
   "name": "python",
   "nbconvert_exporter": "python",
   "pygments_lexer": "ipython3",
   "version": "3.8.5"
  }
 },
 "nbformat": 4,
 "nbformat_minor": 4
}
