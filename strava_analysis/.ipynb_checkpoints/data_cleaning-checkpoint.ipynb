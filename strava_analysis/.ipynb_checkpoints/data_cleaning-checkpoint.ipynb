{
 "cells": [
  {
   "cell_type": "markdown",
   "metadata": {},
   "source": [
    "# Running Exploration (Strava and Garmin)\n",
    "\n",
    "This explores Strava and Garmin data"
   ]
  },
  {
   "cell_type": "code",
   "execution_count": 270,
   "metadata": {},
   "outputs": [],
   "source": [
    "import pandas as pd\n",
    "import numpy as np\n",
    "from datetime import datetime"
   ]
  },
  {
   "cell_type": "code",
   "execution_count": 277,
   "metadata": {},
   "outputs": [],
   "source": [
    "df_garmin_month = pd.read_csv(r'/Users/anna/Google Drive/Projects/garmin_analysis/garmin_analysis/data/Month.csv')\n",
    "df_strava_combined = pd.read_csv(r'/Users/anna/Google Drive/Projects/strava_analysis/strava_analysis/data/combined_activities.csv')\n",
    "df_strava_api = pd.read_csv(r'/Users/anna/Google Drive/Projects/strava_analysis/strava_analysis/data/new_activities_raw.csv')\n",
    "df_strava_historic = pd.read_csv(r'/Users/anna/Google Drive/Projects/strava_analysis/strava_analysis/data/historic_activities_raw.csv')"
   ]
  },
  {
   "cell_type": "code",
   "execution_count": 278,
   "metadata": {},
   "outputs": [],
   "source": [
    "# clean new api data\n",
    "# create unique id to match new and old later\n",
    "df_strava_api = df_strava_api.rename(columns = {\"id\" :\"activity_id\"})\n",
    "# convert to miles\n",
    "df_strava_api[\"distance\"] = ((0.621371 * df_strava_api[\"distance\"])/1000).round(decimals = 2)\n",
    "df_strava_api['average_speed'] = df_strava_api['average_speed'].round(decimals = 3)\n",
    "df_strava_api['max_speed'] = df_strava_api['max_speed'].round(decimals = 3)\n",
    "df_strava_api['average_cadence'] = df_strava_api['average_cadence'].round(decimals = 1)\n",
    "df_strava_api['average_watts'] = df_strava_api['average_watts'].round(decimals = 1)\n",
    "#Break date into start time and date\n",
    "df_strava_api['start_date_local'] = pd.to_datetime(df_strava_api['start_date_local'])\n",
    "df_strava_api['start_time'] = df_strava_api['start_date_local'].dt.time\n",
    "df_strava_api['start_date_local'] = df_strava_api['start_date_local'].dt.date\n",
    "# create new column to join with (this is the 'real' date)\n",
    "df_strava_api['activity_date'] = df_strava_api['start_date_local']\n",
    "\n"
   ]
  },
  {
   "cell_type": "code",
   "execution_count": 279,
   "metadata": {},
   "outputs": [],
   "source": [
    "df_strava_historic = df_strava_historic.rename(columns=str.lower)\n",
    "df_strava_historic.columns = df_strava_historic.columns.str.replace(\" \",\"_\")\n",
    "df_strava_historic[\"distance\"] = df_strava_historic[\"distance\"].str.replace(\",\",\"\")"
   ]
  },
  {
   "cell_type": "code",
   "execution_count": 280,
   "metadata": {},
   "outputs": [],
   "source": [
    "# sorted(df_strava_historic.columns.values)\n",
    "# sorted(df_strava_api.columns.values)"
   ]
  },
  {
   "cell_type": "code",
   "execution_count": 281,
   "metadata": {},
   "outputs": [],
   "source": [
    "#df_strava_historic['distance'] = df_strava_historic['distance'].round(decimals = 3)\n",
    "df_strava_historic[\"distance\"] = pd.to_numeric(df_strava_historic[\"distance\"])\n",
    "df_strava_historic['average_speed'].fillna((df_strava_historic['distance'] / df_strava_historic['moving_time'])*1000, inplace=True)\n",
    "df_strava_historic[\"distance\"] = (0.621371 * df_strava_historic[\"distance\"]).round(decimals = 2) # convert to miles\n",
    "df_strava_historic['average_speed'] = df_strava_historic['average_speed'].round(decimals = 3)\n",
    "df_strava_historic['max_speed'] = df_strava_historic['max_speed'].round(decimals = 3)\n",
    "df_strava_historic['average_cadence'] = df_strava_historic['average_cadence'].round(decimals = 1)\n",
    "df_strava_historic['average_watts'] = df_strava_historic['average_watts'].round(decimals = 1)\n",
    "df_strava_historic['activity_date'] = pd.to_datetime(df_strava_historic['activity_date'])\n",
    "df_strava_historic['activity_date'] = df_strava_historic['activity_date'].dt.date\n",
    "\n",
    "\n",
    "\n",
    "\n"
   ]
  },
  {
   "cell_type": "code",
   "execution_count": 282,
   "metadata": {},
   "outputs": [
    {
     "name": "stdout",
     "output_type": "stream",
     "text": [
      "activity_date    True\n",
      "dtype: bool\n",
      "activity_date    2021-05-20\n",
      "Name: 2, dtype: object\n",
      "activity_date    2021-05-20\n",
      "Name: 947, dtype: object\n"
     ]
    }
   ],
   "source": [
    "test_car = 'activity_date'\n",
    "print(df_strava_api.loc[2, [test_car]] == df_strava_historic.loc[947, [test_car]])\n",
    "print(df_strava_api.loc[2, [test_car]])\n",
    "print(df_strava_historic.loc[947, [test_car]])"
   ]
  },
  {
   "cell_type": "code",
   "execution_count": null,
   "metadata": {},
   "outputs": [],
   "source": [
    "# concats the two dfs\n",
    "df_combo = pd.concat([df_strava_api,df_strava_historic])"
   ]
  }
 ],
 "metadata": {
  "kernelspec": {
   "display_name": "Python 3",
   "language": "python",
   "name": "python3"
  },
  "language_info": {
   "codemirror_mode": {
    "name": "ipython",
    "version": 3
   },
   "file_extension": ".py",
   "mimetype": "text/x-python",
   "name": "python",
   "nbconvert_exporter": "python",
   "pygments_lexer": "ipython3",
   "version": "3.8.5"
  }
 },
 "nbformat": 4,
 "nbformat_minor": 4
}
