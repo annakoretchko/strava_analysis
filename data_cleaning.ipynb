{
 "cells": [
  {
   "cell_type": "markdown",
   "metadata": {},
   "source": [
    "# Running Exploration (Strava and Garmin)\n",
    "\n",
    "This explores Strava and Garmin data"
   ]
  },
  {
   "cell_type": "code",
   "execution_count": 1,
   "metadata": {},
   "outputs": [],
   "source": [
    "import pandas as pd\n",
    "import numpy as np\n",
    "from datetime import datetime"
   ]
  },
  {
   "cell_type": "code",
   "execution_count": 2,
   "metadata": {},
   "outputs": [],
   "source": [
    "df_garmin_month = pd.read_csv(r'/Users/anna/Google Drive/Projects/garmin_analysis/garmin_analysis/data/Month.csv')\n",
    "df_strava_combined = pd.read_csv(r'/Users/anna/Google Drive/Projects/strava_analysis/strava_analysis/data/combined_activities.csv')\n",
    "df_strava_api = pd.read_csv(r'/Users/anna/Google Drive/Projects/strava_analysis/strava_analysis/data/new_activities_raw.csv')\n",
    "df_strava_historic = pd.read_csv(r'/Users/anna/Google Drive/Projects/strava_analysis/strava_analysis/data/historic_activities_raw.csv')"
   ]
  },
  {
   "cell_type": "code",
   "execution_count": 3,
   "metadata": {},
   "outputs": [],
   "source": [
    "df_strava_historic = pd.read_csv(r'/Users/anna/Google Drive/Projects/strava_analysis/strava_analysis/data/historic_activities_raw.csv')"
   ]
  },
  {
   "cell_type": "code",
   "execution_count": 4,
   "metadata": {},
   "outputs": [],
   "source": [
    "# clean new api data\n",
    "# create unique id to match new and old later\n",
    "df_strava_api = df_strava_api.rename(columns = {\"id\" :\"activity_id\"})\n",
    "df_strava_historic = df_strava_historic.rename(columns = {\"Activity Type\" :\"type\"})\n",
    "df_strava_historic = df_strava_historic.rename(columns = {\"Elevation Gain\" :\"total_elevation_gain\"})\n",
    "\n",
    "# convert to miles\n",
    "df_strava_api[\"distance\"] = ((0.621371 * df_strava_api[\"distance\"])/1000).round(decimals = 2)\n",
    "df_strava_api['average_speed'] = df_strava_api['average_speed'].round(decimals = 3)\n",
    "df_strava_api['max_speed'] = df_strava_api['max_speed'].round(decimals = 3)\n",
    "df_strava_api['average_cadence'] = df_strava_api['average_cadence'].round(decimals = 1)\n",
    "df_strava_api['average_watts'] = df_strava_api['average_watts'].round(decimals = 1)\n",
    "#Break date into start time and date\n",
    "df_strava_api['start_date_local'] = pd.to_datetime(df_strava_api['start_date_local'])\n",
    "df_strava_api['start_time'] = df_strava_api['start_date_local'].dt.time\n",
    "df_strava_api['start_date_local'] = df_strava_api['start_date_local'].dt.date\n",
    "# create new column to join with (this is the 'real' date)\n",
    "df_strava_api['activity_date'] = df_strava_api['start_date_local']\n",
    "df_strava_api['total_elevation_gain'] = df_strava_api['total_elevation_gain'].round(decimals = 1)\n",
    "\n"
   ]
  },
  {
   "cell_type": "code",
   "execution_count": 5,
   "metadata": {},
   "outputs": [],
   "source": [
    "df_strava_historic = df_strava_historic.rename(columns=str.lower)\n",
    "df_strava_historic.columns = df_strava_historic.columns.str.replace(\" \",\"_\")\n",
    "df_strava_historic[\"distance\"] = df_strava_historic[\"distance\"].str.replace(\",\",\"\")"
   ]
  },
  {
   "cell_type": "code",
   "execution_count": 6,
   "metadata": {},
   "outputs": [],
   "source": [
    "# sorted(df_strava_historic.columns.values)\n",
    "# sorted(df_strava_api.columns.values)"
   ]
  },
  {
   "cell_type": "code",
   "execution_count": 12,
   "metadata": {},
   "outputs": [
    {
     "data": {
      "text/plain": [
       "0      19.440001\n",
       "1       0.000000\n",
       "2       0.000000\n",
       "3       0.000000\n",
       "4      29.760000\n",
       "         ...    \n",
       "944    22.000000\n",
       "945    27.818453\n",
       "946    15.000000\n",
       "947    73.000000\n",
       "948    37.000000\n",
       "Name: elevation_gain, Length: 949, dtype: float64"
      ]
     },
     "execution_count": 12,
     "metadata": {},
     "output_type": "execute_result"
    }
   ],
   "source": [
    "#df_strava_historic['distance'] = df_strava_historic['distance'].round(decimals = 3)\n",
    "df_strava_historic[\"distance\"] = pd.to_numeric(df_strava_historic[\"distance\"])\n",
    "df_strava_historic['average_speed'].fillna((df_strava_historic['distance'] / df_strava_historic['moving_time'])*1000, inplace=True)\n",
    "df_strava_historic[\"distance\"] = (0.621371 * df_strava_historic[\"distance\"]).round(decimals = 2) # convert to miles\n",
    "df_strava_historic['average_speed'] = df_strava_historic['average_speed'].round(decimals = 3)\n",
    "df_strava_historic['max_speed'] = df_strava_historic['max_speed'].round(decimals = 3)\n",
    "df_strava_historic['average_cadence'] = df_strava_historic['average_cadence'].round(decimals = 1)\n",
    "df_strava_historic['average_watts'] = df_strava_historic['average_watts'].round(decimals = 1)\n",
    "df_strava_historic['activity_date'] = pd.to_datetime(df_strava_historic['activity_date'])\n",
    "df_strava_historic['activity_date'] = df_strava_historic['activity_date'].dt.date\n",
    "df_strava_historic['total_elevation_gain'] = df_strava_historic['total_elevation_gain'].round(decimals = 1)\n",
    "\n",
    "\n",
    "\n"
   ]
  },
  {
   "cell_type": "code",
   "execution_count": 15,
   "metadata": {},
   "outputs": [
    {
     "name": "stdout",
     "output_type": "stream",
     "text": [
      "total_elevation_gain    73\n",
      "Name: 2, dtype: object\n",
      "elevation_gain    73\n",
      "Name: 947, dtype: object\n"
     ]
    }
   ],
   "source": []
  },
  {
   "cell_type": "code",
   "execution_count": 11,
   "metadata": {},
   "outputs": [
    {
     "ename": "ValueError",
     "evalue": "Can only compare identically-labeled Series objects",
     "output_type": "error",
     "traceback": [
      "\u001b[0;31m---------------------------------------------------------------------------\u001b[0m",
      "\u001b[0;31mValueError\u001b[0m                                Traceback (most recent call last)",
      "\u001b[0;32m<ipython-input-11-e9b969b552a3>\u001b[0m in \u001b[0;36m<module>\u001b[0;34m\u001b[0m\n\u001b[1;32m      1\u001b[0m \u001b[0mtest_car\u001b[0m \u001b[0;34m=\u001b[0m \u001b[0;34m'elevation_gain'\u001b[0m\u001b[0;34m\u001b[0m\u001b[0;34m\u001b[0m\u001b[0m\n\u001b[1;32m      2\u001b[0m \u001b[0mtest2\u001b[0m \u001b[0;34m=\u001b[0m \u001b[0;34m'total_elevation_gain'\u001b[0m\u001b[0;34m\u001b[0m\u001b[0;34m\u001b[0m\u001b[0m\n\u001b[0;32m----> 3\u001b[0;31m \u001b[0mprint\u001b[0m\u001b[0;34m(\u001b[0m\u001b[0mdf_strava_api\u001b[0m\u001b[0;34m.\u001b[0m\u001b[0mloc\u001b[0m\u001b[0;34m[\u001b[0m\u001b[0;36m2\u001b[0m\u001b[0;34m,\u001b[0m \u001b[0;34m[\u001b[0m\u001b[0mtest2\u001b[0m\u001b[0;34m]\u001b[0m\u001b[0;34m]\u001b[0m \u001b[0;34m==\u001b[0m \u001b[0mdf_strava_historic\u001b[0m\u001b[0;34m.\u001b[0m\u001b[0mloc\u001b[0m\u001b[0;34m[\u001b[0m\u001b[0;36m947\u001b[0m\u001b[0;34m,\u001b[0m \u001b[0;34m[\u001b[0m\u001b[0mtest_car\u001b[0m\u001b[0;34m]\u001b[0m\u001b[0;34m]\u001b[0m\u001b[0;34m)\u001b[0m\u001b[0;34m\u001b[0m\u001b[0;34m\u001b[0m\u001b[0m\n\u001b[0m\u001b[1;32m      4\u001b[0m \u001b[0mprint\u001b[0m\u001b[0;34m(\u001b[0m\u001b[0mdf_strava_api\u001b[0m\u001b[0;34m.\u001b[0m\u001b[0mloc\u001b[0m\u001b[0;34m[\u001b[0m\u001b[0;36m2\u001b[0m\u001b[0;34m,\u001b[0m \u001b[0;34m[\u001b[0m\u001b[0mtest2\u001b[0m\u001b[0;34m]\u001b[0m\u001b[0;34m]\u001b[0m\u001b[0;34m)\u001b[0m\u001b[0;34m\u001b[0m\u001b[0;34m\u001b[0m\u001b[0m\n\u001b[1;32m      5\u001b[0m \u001b[0mprint\u001b[0m\u001b[0;34m(\u001b[0m\u001b[0mdf_strava_historic\u001b[0m\u001b[0;34m.\u001b[0m\u001b[0mloc\u001b[0m\u001b[0;34m[\u001b[0m\u001b[0;36m947\u001b[0m\u001b[0;34m,\u001b[0m \u001b[0;34m[\u001b[0m\u001b[0mtest_car\u001b[0m\u001b[0;34m]\u001b[0m\u001b[0;34m]\u001b[0m\u001b[0;34m)\u001b[0m\u001b[0;34m\u001b[0m\u001b[0;34m\u001b[0m\u001b[0m\n",
      "\u001b[0;32m~/anaconda3/lib/python3.8/site-packages/pandas/core/ops/common.py\u001b[0m in \u001b[0;36mnew_method\u001b[0;34m(self, other)\u001b[0m\n\u001b[1;32m     63\u001b[0m         \u001b[0mother\u001b[0m \u001b[0;34m=\u001b[0m \u001b[0mitem_from_zerodim\u001b[0m\u001b[0;34m(\u001b[0m\u001b[0mother\u001b[0m\u001b[0;34m)\u001b[0m\u001b[0;34m\u001b[0m\u001b[0;34m\u001b[0m\u001b[0m\n\u001b[1;32m     64\u001b[0m \u001b[0;34m\u001b[0m\u001b[0m\n\u001b[0;32m---> 65\u001b[0;31m         \u001b[0;32mreturn\u001b[0m \u001b[0mmethod\u001b[0m\u001b[0;34m(\u001b[0m\u001b[0mself\u001b[0m\u001b[0;34m,\u001b[0m \u001b[0mother\u001b[0m\u001b[0;34m)\u001b[0m\u001b[0;34m\u001b[0m\u001b[0;34m\u001b[0m\u001b[0m\n\u001b[0m\u001b[1;32m     66\u001b[0m \u001b[0;34m\u001b[0m\u001b[0m\n\u001b[1;32m     67\u001b[0m     \u001b[0;32mreturn\u001b[0m \u001b[0mnew_method\u001b[0m\u001b[0;34m\u001b[0m\u001b[0;34m\u001b[0m\u001b[0m\n",
      "\u001b[0;32m~/anaconda3/lib/python3.8/site-packages/pandas/core/ops/__init__.py\u001b[0m in \u001b[0;36mwrapper\u001b[0;34m(self, other)\u001b[0m\n\u001b[1;32m    363\u001b[0m \u001b[0;34m\u001b[0m\u001b[0m\n\u001b[1;32m    364\u001b[0m         \u001b[0;32mif\u001b[0m \u001b[0misinstance\u001b[0m\u001b[0;34m(\u001b[0m\u001b[0mother\u001b[0m\u001b[0;34m,\u001b[0m \u001b[0mABCSeries\u001b[0m\u001b[0;34m)\u001b[0m \u001b[0;32mand\u001b[0m \u001b[0;32mnot\u001b[0m \u001b[0mself\u001b[0m\u001b[0;34m.\u001b[0m\u001b[0m_indexed_same\u001b[0m\u001b[0;34m(\u001b[0m\u001b[0mother\u001b[0m\u001b[0;34m)\u001b[0m\u001b[0;34m:\u001b[0m\u001b[0;34m\u001b[0m\u001b[0;34m\u001b[0m\u001b[0m\n\u001b[0;32m--> 365\u001b[0;31m             \u001b[0;32mraise\u001b[0m \u001b[0mValueError\u001b[0m\u001b[0;34m(\u001b[0m\u001b[0;34m\"Can only compare identically-labeled Series objects\"\u001b[0m\u001b[0;34m)\u001b[0m\u001b[0;34m\u001b[0m\u001b[0;34m\u001b[0m\u001b[0m\n\u001b[0m\u001b[1;32m    366\u001b[0m \u001b[0;34m\u001b[0m\u001b[0m\n\u001b[1;32m    367\u001b[0m         \u001b[0mlvalues\u001b[0m \u001b[0;34m=\u001b[0m \u001b[0mextract_array\u001b[0m\u001b[0;34m(\u001b[0m\u001b[0mself\u001b[0m\u001b[0;34m,\u001b[0m \u001b[0mextract_numpy\u001b[0m\u001b[0;34m=\u001b[0m\u001b[0;32mTrue\u001b[0m\u001b[0;34m)\u001b[0m\u001b[0;34m\u001b[0m\u001b[0;34m\u001b[0m\u001b[0m\n",
      "\u001b[0;31mValueError\u001b[0m: Can only compare identically-labeled Series objects"
     ]
    }
   ],
   "source": [
    "test_car = 'total_elevation_gain'\n",
    "\n",
    "print(df_strava_api.loc[2, [test_car]] == df_strava_historic.loc[947, [test_car]])\n",
    "print(df_strava_api.loc[2, [test_car]])\n",
    "print(df_strava_historic.loc[947, [test_car]])"
   ]
  },
  {
   "cell_type": "code",
   "execution_count": 304,
   "metadata": {},
   "outputs": [],
   "source": [
    "# concats the two dfs\n",
    "df_combo = pd.concat([df_strava_api,df_strava_historic])\n"
   ]
  },
  {
   "cell_type": "code",
   "execution_count": 305,
   "metadata": {},
   "outputs": [],
   "source": [
    "df_combo = df_combo.drop_duplicates(subset=['activity_id'])\n"
   ]
  },
  {
   "cell_type": "code",
   "execution_count": 306,
   "metadata": {},
   "outputs": [
    {
     "name": "stdout",
     "output_type": "stream",
     "text": [
      "['achievement_count', 'activity_date', 'activity_description', 'activity_gear', 'activity_id', 'activity_name', 'activity_type', 'apparent_temperature', 'athlete.id', 'athlete.resource_state', 'athlete_count', 'athlete_weight', 'average_cadence', 'average_grade', 'average_heart_rate', 'average_heartrate', 'average_negative_grade', 'average_positive_grade', 'average_speed', 'average_temp', 'average_temperature', 'average_watts', 'bike', 'bike_weight', 'calories', 'cloud_cover', 'comment_count', 'commute', 'commute.1', 'device_watts', 'dewpoint', 'display_hide_heartrate_option', 'distance', 'distance.1', 'downhill_time', 'elapsed_time', 'elapsed_time.1', 'elev_high', 'elev_low', 'elevation_gain', 'elevation_high', 'elevation_loss', 'elevation_low', 'end_latlng', 'external_id', 'filename', 'flagged', 'from_accepted_tag', 'from_upload', 'gear', 'gear_id', 'grade_adjusted_distance', 'has_heartrate', 'has_kudoed', 'heartrate_opt_out', 'humidity', 'kilojoules', 'kudos_count', 'location_city', 'location_country', 'location_state', 'manual', 'map.id', 'map.resource_state', 'map.summary_polyline', 'max_cadence', 'max_grade', 'max_heart_rate', 'max_heartrate', 'max_speed', 'max_temperature', 'max_watts', 'moon_phase', 'moving_time', 'name', 'number_of_runs', 'other_time', 'perceived_exertion', 'perceived_relative_effort', 'photo_count', 'power_count', 'pr_count', 'precipitation_intensity', 'precipitation_probability', 'precipitation_type', 'prefer_perceived_exertion', 'private', 'relative_effort', 'relative_effort.1', 'resource_state', 'start_date', 'start_date_local', 'start_latitude', 'start_latlng', 'start_longitude', 'start_time', 'sunrise_time', 'sunset_time', 'timezone', 'total_elevation_gain', 'total_photo_count', 'total_weight_lifted', 'total_work', 'trainer', 'type', 'uphill_time', 'upload_id', 'upload_id_str', 'utc_offset', 'uv_index', 'visibility', 'weather_condition', 'weather_observation_time', 'weather_ozone', 'weather_pressure', 'weather_temperature', 'weather_visibility', 'weighted_average_power', 'wind_bearing', 'wind_gust', 'wind_speed', 'workout_type']\n"
     ]
    }
   ],
   "source": [
    "print(sorted(df_combo.columns.values))"
   ]
  },
  {
   "cell_type": "code",
   "execution_count": null,
   "metadata": {},
   "outputs": [],
   "source": []
  }
 ],
 "metadata": {
  "kernelspec": {
   "display_name": "Python 3",
   "language": "python",
   "name": "python3"
  },
  "language_info": {
   "codemirror_mode": {
    "name": "ipython",
    "version": 3
   },
   "file_extension": ".py",
   "mimetype": "text/x-python",
   "name": "python",
   "nbconvert_exporter": "python",
   "pygments_lexer": "ipython3",
   "version": "3.8.5"
  }
 },
 "nbformat": 4,
 "nbformat_minor": 4
}
